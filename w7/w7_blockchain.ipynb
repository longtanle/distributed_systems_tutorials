{
  "nbformat": 4,
  "nbformat_minor": 0,
  "metadata": {
    "colab": {
      "provenance": [],
      "collapsed_sections": [
        "YlNG2gXwIsB4"
      ]
    },
    "kernelspec": {
      "name": "python3",
      "display_name": "Python 3"
    },
    "language_info": {
      "name": "python"
    }
  },
  "cells": [
    {
      "cell_type": "markdown",
      "source": [
        "# **Tutorial - Week 7 - Blockchain**"
      ],
      "metadata": {
        "id": "1pLxKSZjGCEj"
      }
    },
    {
      "cell_type": "markdown",
      "source": [
        "**Blockchain**: A digital database or ledger that is distributed among the nodes of peer-to-peer network"
      ],
      "metadata": {
        "id": "5GsLbMiUwWcG"
      }
    },
    {
      "cell_type": "markdown",
      "source": [
        "<img src=\"https://qph.cf2.quoracdn.net/main-qimg-d9d88c0959769425615aaf5cc30835b4\" width=600>"
      ],
      "metadata": {
        "id": "6xmMndRawrOU"
      }
    },
    {
      "cell_type": "markdown",
      "source": [
        "## 1. Hash function"
      ],
      "metadata": {
        "id": "oNgq7RPVF-BU"
      }
    },
    {
      "cell_type": "markdown",
      "source": [
        "In this week’s lecture, you learned about the hash function, cryptographic hash functions, and their applications."
      ],
      "metadata": {
        "id": "c6kQz9E3GIIM"
      }
    },
    {
      "cell_type": "markdown",
      "source": [
        "**What is Hash Function ?**\n",
        "\n",
        "A type of cryptography that takes in a random value as input and gives back a fixed length value as output."
      ],
      "metadata": {
        "id": "5hE4b6Z2MsKR"
      }
    },
    {
      "cell_type": "markdown",
      "source": [
        "<img src=\"https://miro.medium.com/v2/resize:fit:2000/1*61uolxM5HsroqBFaQxsGxQ.png\" width=500>"
      ],
      "metadata": {
        "id": "j5rTSV-RM69d"
      }
    },
    {
      "cell_type": "markdown",
      "source": [
        "- **Deterministic**: The same input will give the same output\n",
        "- **One-way function**: A hash can be easily computed for an input, but it is infeasible to reverse it.\n",
        "- **Collision-free**: No two input hashes should map to the same output hash."
      ],
      "metadata": {
        "id": "0K26DU9uOw4o"
      }
    },
    {
      "cell_type": "markdown",
      "source": [
        "With the help of Python libraries like `hashlib`, it is simple to calculate the hash value with standard hash functions such as the **SHA-256** hashing algorithm. Below is a sample code to calculate an **SHA-256** hash of message 12345 using hashlib and print the hash value encoded."
      ],
      "metadata": {
        "id": "0va9zlvCMBjq"
      }
    },
    {
      "cell_type": "code",
      "execution_count": null,
      "metadata": {
        "colab": {
          "base_uri": "https://localhost:8080/"
        },
        "id": "NUOiWajADEsP",
        "outputId": "20848469-7325-480d-d4e6-3281d52d7f60"
      },
      "outputs": [
        {
          "output_type": "stream",
          "name": "stdout",
          "text": [
            "Hash value: 5994471abb01112afcc18159f6cc74b4f511b99806da59b3caf5a9c173cacfc5\n",
            "Bit Length: 256\n"
          ]
        }
      ],
      "source": [
        "import hashlib\n",
        "\n",
        "# encode message to bytes using UTF-8 encoding\n",
        "message = \"12345\".encode(\"utf-8\")\n",
        "# hash with SHA-256\n",
        "rawHash = hashlib.sha256(message)\n",
        "# return as a string containing only hexadecimal digits\n",
        "hexHash = rawHash.hexdigest()\n",
        "\n",
        "print(\"Hash value:\", hexHash)\n",
        "print(\"Bit Length:\", len(hexHash) * 4)"
      ]
    },
    {
      "cell_type": "markdown",
      "source": [
        "## 2. Transaction"
      ],
      "metadata": {
        "id": "aDINp8L6GMQb"
      }
    },
    {
      "cell_type": "markdown",
      "source": [
        "A blockchain is a linked list of blocks, each containing transactions. A transaction is defined as the container to store a single message (sender + content)."
      ],
      "metadata": {
        "id": "b8-Ds5H0SEes"
      }
    },
    {
      "cell_type": "markdown",
      "source": [
        "\n",
        "<img src=\"https://www.researchgate.net/publication/342527999/figure/tbl1/AS:907748308959239@1593435470930/Transaction-Format-of-the-Blockchain-System.png\" width=500>"
      ],
      "metadata": {
        "id": "gXvz1gS3R3iC"
      }
    },
    {
      "cell_type": "markdown",
      "source": [
        "\n",
        "In our implementation, the transaction is received in JSON format as an object with the following keys: sender and message, with string values. You should perform some checks before considering a message as a valid transaction. Here are the requirements for a message to be a valid transaction:\n",
        "\n",
        "- The message sender must be present and should **match a 64-character hex string** (regex: [a-fA-F0-9]{64})\n",
        "  + []: set of characters\n",
        "  + ^ : starts with\n",
        "  + a-fA-F0-9: any character alphabetically between a and f, lower case OR upper case, or any digit between 0 and 9\n",
        "  + {}: exactly the specified number of occurrences\n",
        "- The message content must be present and **cannot have more than 70 alphanumeric characters**"
      ],
      "metadata": {
        "id": "YoXxcBGLGRf3"
      }
    },
    {
      "cell_type": "markdown",
      "source": [
        "If a transaction violates these rules, it should be considered as an invalid transaction.\n",
        "\n",
        "You can see an example of a valid transaction below"
      ],
      "metadata": {
        "id": "JmUQnNZwGpTO"
      }
    },
    {
      "cell_type": "code",
      "source": [
        "transaction = {\n",
        "    'sender': 'a57819938feb51bb3f923496c9dacde3e9f667b214a0fb1653b6bfc0f185363b',\n",
        "    'message': 'hello'\n",
        "}"
      ],
      "metadata": {
        "id": "n5ZtnzpbGNeC"
      },
      "execution_count": null,
      "outputs": []
    },
    {
      "cell_type": "markdown",
      "source": [
        "#### Task"
      ],
      "metadata": {
        "id": "g9ljbceWGuAE"
      }
    },
    {
      "cell_type": "markdown",
      "source": [
        "Use the skeleton code in the supplied `blockchain.py` file available on Canvas to implement `make_transaction` and `validate_transaction` functions.\n",
        "\n",
        "- `make_transaction` takes sender and message arguments and returns a JSON string.\n",
        "- `validate_transaction` takes JSON string argument, checks if the supplied string meets the requirements specified above, and returns a transaction dictionary, or an appropriate error value."
      ],
      "metadata": {
        "id": "YF2KLXdTGwrJ"
      }
    },
    {
      "cell_type": "code",
      "source": [
        "from enum import Enum\n",
        "import hashlib\n",
        "import json\n",
        "import re\n",
        "\n",
        "# []: set of characters\n",
        "# ^ : starts with\n",
        "# a-fA-F0-9: any character alphabetically between a and f, lower case OR upper case, or any digit between 0 and 9\n",
        "# {}: exactly the specified number of occurrences\n",
        "sender_valid = re.compile('^[a-fA-F0-9]{64}$')\n",
        "\n",
        "# Define Transaction Validation Error\n",
        "TransactionValidationError = Enum('TransactionValidationError', ['INVALID_JSON', 'INVALID_SENDER', 'INVALID_MESSAGE'])\n",
        "\n",
        "def make_transaction(sender, message) -> str:\n",
        "\t# TODO creation of JSON string from the dictionary containing the sender and the message\n",
        "\tpass\n",
        "\n",
        "def validate_transaction(transaction: str) -> dict | TransactionValidationError:\n",
        "\t# TODO implement JSON string loading, and sender and message validation\n",
        "\tpass\n"
      ],
      "metadata": {
        "id": "tzUef4MFGuyP"
      },
      "execution_count": null,
      "outputs": []
    },
    {
      "cell_type": "markdown",
      "source": [
        "### Solution"
      ],
      "metadata": {
        "id": "YlNG2gXwIsB4"
      }
    },
    {
      "cell_type": "code",
      "source": [
        "from enum import Enum\n",
        "import hashlib\n",
        "import json\n",
        "import re\n",
        "\n",
        "# []: set of characters\n",
        "# ^ : starts with\n",
        "# a-fA-F0-9: any character alphabetically between a and f, lower case OR upper case, or any digit between 0 and 9\n",
        "# {}: exactly the specified number of occurrences\n",
        "sender_valid = re.compile('^[a-fA-F0-9]{64}$')\n",
        "\n",
        "TransactionValidationError = Enum('TransactionValidationError', ['INVALID_JSON', 'INVALID_SENDER', 'INVALID_MESSAGE'])\n",
        "\n",
        "def make_transaction(sender, message) -> str:\n",
        "\treturn json.dumps({'sender': sender, 'message': message})\n",
        "\n",
        "def validate_transaction(transaction: str) -> dict | TransactionValidationError:\n",
        "\ttry:\n",
        "\t\ttx = json.loads(transaction)\n",
        "\texcept json.JSONDecodeError:\n",
        "\t\treturn TransactionValidationError.INVALID_JSON\n",
        "\n",
        "\tif not(tx.get('sender') and isinstance(tx['sender'], str) and sender_valid.search(tx['sender'])):\n",
        "\t\treturn TransactionValidationError.INVALID_SENDER\n",
        "\n",
        "\tif not(tx.get('message') and isinstance(tx['message'], str) and len(tx['message']) <= 70 and tx['message'].isalnum()):\n",
        "\t\treturn TransactionValidationError.INVALID_MESSAGE\n",
        "\n",
        "\treturn tx"
      ],
      "metadata": {
        "id": "doBujBGYItdC"
      },
      "execution_count": null,
      "outputs": []
    },
    {
      "cell_type": "markdown",
      "source": [
        "### Test Transaction"
      ],
      "metadata": {
        "id": "I8Un0Ab6Sfxq"
      }
    },
    {
      "cell_type": "code",
      "source": [
        "# Create a transaction as dictionary\n",
        "sender = 'a57819938feb51bb3f923496c9dacde3e9f667b214a0fb1653b6bfc0f185363b'\n",
        "message = 'hello'\n",
        "\n",
        "transaction_1 = make_transaction(sender, message)\n",
        "\n",
        "print(transaction_1)\n",
        "\n",
        "print(\"Transaction valid :\", validate_transaction(transaction_1))"
      ],
      "metadata": {
        "colab": {
          "base_uri": "https://localhost:8080/"
        },
        "id": "XWknWDS2J44V",
        "outputId": "b5f43072-aaa8-48ac-f3c3-d29923647e88"
      },
      "execution_count": null,
      "outputs": [
        {
          "output_type": "stream",
          "name": "stdout",
          "text": [
            "{\"sender\": \"a57819938feb51bb3f923496c9dacde3e9f667b214a0fb1653b6bfc0f185363b\", \"message\": \"hello\"}\n",
            "Transaction valid : {'sender': 'a57819938feb51bb3f923496c9dacde3e9f667b214a0fb1653b6bfc0f185363b', 'message': 'hello'}\n"
          ]
        }
      ]
    },
    {
      "cell_type": "code",
      "source": [
        "sender = '@57819938feb51bb3f923496c9dacde3e9f667b214a0fb1653b6bfc0f185363b',\n",
        "message = 'hello'\n",
        "\n",
        "transaction_2 = make_transaction(sender, message)\n",
        "\n",
        "print(transaction_1)\n",
        "\n",
        "print(\"Transaction valid :\", validate_transaction(transaction_2))"
      ],
      "metadata": {
        "colab": {
          "base_uri": "https://localhost:8080/"
        },
        "id": "OCTuJ9-5KlTy",
        "outputId": "c548fd4f-8f0b-45fb-d9b0-e833ef7b059b"
      },
      "execution_count": null,
      "outputs": [
        {
          "output_type": "stream",
          "name": "stdout",
          "text": [
            "{\"sender\": \"a57819938feb51bb3f923496c9dacde3e9f667b214a0fb1653b6bfc0f185363b\", \"message\": \"hello\"}\n",
            "Transaction valid : TransactionValidationError.INVALID_SENDER\n"
          ]
        }
      ]
    },
    {
      "cell_type": "markdown",
      "source": [
        "## 3. Block"
      ],
      "metadata": {
        "id": "OytMyeecG5Rm"
      }
    },
    {
      "cell_type": "markdown",
      "source": [
        "In the lectures, you have seen the structure of blockchain."
      ],
      "metadata": {
        "id": "FchoReInUuGM"
      }
    },
    {
      "cell_type": "markdown",
      "source": [
        "<img src=\"https://community.sap.com/legacyfs/online/storage/blog_attachments/2019/01/B_1.jpg\" width=600>"
      ],
      "metadata": {
        "id": "RjG-llONS6pv"
      }
    },
    {
      "cell_type": "markdown",
      "source": [
        "- An **ordered, back-linked list** of blocks\n",
        "- The first block in any blockchain is called **the genesis block**"
      ],
      "metadata": {
        "id": "6BcJq7BPUymt"
      }
    },
    {
      "cell_type": "markdown",
      "source": [
        "Each block contains the following fields:\n",
        "\n",
        "- a list of transactions\n",
        "- hash of the previous block\n",
        "- block index in the blockchain"
      ],
      "metadata": {
        "id": "N_1UVI-pUx8D"
      }
    },
    {
      "cell_type": "markdown",
      "source": [
        "\n",
        "\n",
        "The important thing here is to calculate the hash of each block precisely. For example, we can take the three block fields \"index\", \"transactions\", and \"previous_hash\", serialize them in JSON format with keys sorted lexicographically using the json.dumps method and the sort_keys parameter, and use the resulting string as an input to the hash function. This will guarantee that the string for each block will always be the same.\n",
        "\n",
        "**Data**: Previous_Hash, Transaction Pool, Index\n",
        "\n",
        "**Result**: Current_Hash\n",
        "\n",
        "Block_String = serialize(Previous_Hash, Pool, Index);\n",
        "\n",
        "Current_Hash = hash(Block_String);\n",
        "\n",
        "Within the scope of this tutorial, we will use SHA-256 as the hash function. You will be required to implement hash calculation function for blockchain in the next section.\n",
        "\n",
        "You can see an example of a block below."
      ],
      "metadata": {
        "id": "ULjwhgOIG8_X"
      }
    },
    {
      "cell_type": "code",
      "source": [
        "block = {\n",
        "  'index': 2,\n",
        "  'transactions': [{'sender': 'a57819938feb51bb3f923496c9dacde3e9f667b214a0fb1653b6bfc0f185363b',\n",
        "                    'message': 'hello'\n",
        "                    }],\n",
        "  'previous_hash': '03525042c7132a2ec3db14b7aa1db816e61f1311199ae2a31f3ad1c4312047d1',\n",
        "  'current_hash': 'a79cc460599211dfadb73afc81ce2129cb55df9c43d5f27e522041fab9c8ed35'\n",
        "  }"
      ],
      "metadata": {
        "id": "XoeoCOt-G8qc"
      },
      "execution_count": null,
      "outputs": []
    },
    {
      "cell_type": "markdown",
      "source": [
        "You can use the hash values in the example to test your implementation"
      ],
      "metadata": {
        "id": "nbJPcMT_Hsc5"
      }
    },
    {
      "cell_type": "markdown",
      "source": [
        "## 4. Blockchain"
      ],
      "metadata": {
        "id": "X4OREKR1HtnF"
      }
    },
    {
      "cell_type": "markdown",
      "source": [
        "A blockchain implementation contains the blockchain itself (i.e., the committed blocks of transactions) and a transaction pool to store uncommitted transactions. More precisely, it contains:\n",
        "\n",
        "- a list of valid uncommitted transactions stored in a transaction pool;\n",
        "- the latest block of the blockchain;\n",
        "- the length of the blockchain."
      ],
      "metadata": {
        "id": "wtu2QHjgVQtT"
      }
    },
    {
      "cell_type": "markdown",
      "source": [
        "<img src=\"https://blockchain.uvt.ro/wp-content/uploads/2022/01/transactions.png\" width=600>"
      ],
      "metadata": {
        "id": "VxZuiSS1VRSq"
      }
    },
    {
      "cell_type": "markdown",
      "source": [
        "**Example - Bitcoin Mining**"
      ],
      "metadata": {
        "id": "S219VW1gVkiL"
      }
    },
    {
      "cell_type": "markdown",
      "source": [
        "1. A transaction is sent and put into a temporary pool where from there is getting into a block.\n",
        "2. Miners get those transactions from the pool and mine the next hash for the block.\n",
        "  - *Mining Difficulty*: how difficult it is to find a hash below a given target.\n",
        "  - For the hash to be valid, it must be equal to or smaller than the target value. The larger the target value is, the harder it is for miners to find a valid hash.\n",
        "  - Eg.a target hash: `0x0404cb * 2**(8*(0x1b - 3)) = 0x00000000000404CB000000000000000000000000000000000000000000000000`\n",
        "3. Once the next hash has been found the block is created with the transactions from the pool."
      ],
      "metadata": {
        "id": "QTSSr9t6Yh4N"
      }
    },
    {
      "cell_type": "markdown",
      "source": [
        "\n",
        "\n",
        "The blockchain has an `add_transaction(self, transaction)` method to add a transaction to the transaction pool. First, you need to check the attributes of the `transaction` following the format described in Section 2. Then, if a transaction is valid, it is added to the local transaction pool. If the transaction is added to the pool, the method should return `True`, and `False` otherwise. `new_block(self, previous_hash)` method commits all uncommitted transactions in the pool to a new block, and appends that block to the blockchain. When a new block is generated, the length of the blockchain should increase by 1. Genesis block has index 1 and `previous_hash` 0."
      ],
      "metadata": {
        "id": "cHHn2uvzHxdC"
      }
    },
    {
      "cell_type": "markdown",
      "source": [
        "### Task"
      ],
      "metadata": {
        "id": "OX6sje8FIEms"
      }
    },
    {
      "cell_type": "markdown",
      "source": [
        "Use the skeleton code in the supplied blockchain.py file to implement a Blockchain class.\n",
        "\n",
        "You need to write code for some methods in the Blockchain class including:"
      ],
      "metadata": {
        "id": "3MBIqpz6IGtC"
      }
    },
    {
      "cell_type": "markdown",
      "source": [
        "- `new_block(self, previous_hash)`: append a new block consisting of the following properties:\n",
        "  + Index: the index of the block in blockchain\n",
        "  + Transaction Pool: an array containing transactions\n",
        "  + Previous Hash: the hash value of the previous block\n",
        "  + Current Hash: the hash value of the current block\n",
        "- `calculate_hash(self, block)`: calculate hash value using SHA-256 for a block object using the method described in Section 3."
      ],
      "metadata": {
        "id": "OoGHUh0xII-M"
      }
    },
    {
      "cell_type": "code",
      "source": [
        "class Blockchain():\n",
        "\tdef  __init__(self):\n",
        "\t\tself.blockchain = []\n",
        "\t\tself.pool = []\n",
        "\t\tself.new_block('0' * 64)\n",
        "\n",
        "\tdef new_block(self, previous_hash=None):\n",
        "\t\t# TODO create a block dict with the correct fields, clear the pool, and append the block to the blockchain\n",
        "    # 1. Define block\n",
        "    # 2. Calculate current hash\n",
        "    # 3. Append block to the blockchain\n",
        "\t\tpass\n",
        "\n",
        "\tdef last_block(self):\n",
        "\t\treturn self.blockchain[-1]\n",
        "\n",
        "\tdef calculate_hash(self, block: dict) -> str:\n",
        "\t\t# TODO implement the hash calculation by using the correct fields of the block and JSON serialization, and return hex string of the hash\n",
        "    # 1. Convert block to string object\n",
        "    # 2. Using hashlib.sha256 to compute hash\n",
        "    # 3. Convert to raw hash to hexadecimal digits\n",
        "\t\tpass\n",
        "\n",
        "\tdef add_transaction(self, transaction: str) -> bool:\n",
        "\t\tif isinstance((tx := validate_transaction(transaction)), dict):\n",
        "\t\t\tself.pool.append(tx)\n",
        "\t\t\treturn True\n",
        "\t\treturn False"
      ],
      "metadata": {
        "id": "ago781rKHvZf"
      },
      "execution_count": null,
      "outputs": []
    },
    {
      "cell_type": "markdown",
      "source": [
        "### Solution"
      ],
      "metadata": {
        "id": "VH-htlNNJM2q"
      }
    },
    {
      "cell_type": "code",
      "source": [
        "class Blockchain():\n",
        "\tdef  __init__(self):\n",
        "\t\tself.blockchain = []\n",
        "\t\tself.pool = []\n",
        "\t\tself.new_block('0' * 64)\n",
        "\n",
        "\tdef new_block(self, previous_hash=None):\n",
        "   # TODO create a block dict with the correct fields, clear the pool, and append the block to the blockchain\n",
        "\t\tblock = {\n",
        "\t\t\t'index': len(self.blockchain) + 1,\n",
        "\t\t\t'transactions': self.pool.copy(),\n",
        "\t\t\t'previous_hash': previous_hash or self.blockchain[-1]['current_hash'],\n",
        "\t\t}\n",
        "\t\tblock['current_hash'] = self.calculate_hash(block)\n",
        "\t\tself.pool = []\n",
        "\t\tself.blockchain.append(block)\n",
        "\n",
        "\tdef last_block(self):\n",
        "\t\treturn self.blockchain[-1]\n",
        "\n",
        "\tdef calculate_hash(self, block: dict) -> str:\n",
        "    # TODO implement the hash calculation by using the correct fields of the block and JSON serialization, and return hex string of the hash\n",
        "\t\tblock_object: str = json.dumps({k: block.get(k) for k in ['index', 'transactions', 'previous_hash']}, sort_keys=True)\n",
        "\t\tblock_string = block_object.encode()\n",
        "\t\traw_hash = hashlib.sha256(block_string)\n",
        "\t\thex_hash = raw_hash.hexdigest()\n",
        "\t\treturn hex_hash\n",
        "\n",
        "\tdef add_transaction(self, transaction: str) -> bool:\n",
        "\t\tif isinstance((tx := validate_transaction(transaction)), dict):\n",
        "\t\t\tself.pool.append(tx)\n",
        "\t\t\treturn True\n",
        "\t\treturn False\n"
      ],
      "metadata": {
        "id": "Ug8wjQrHJOUx"
      },
      "execution_count": null,
      "outputs": []
    },
    {
      "cell_type": "markdown",
      "source": [
        "#### Test Blockchain"
      ],
      "metadata": {
        "id": "xsthkHz9K6Ip"
      }
    },
    {
      "cell_type": "code",
      "source": [
        "# Create a block as dictionary\n",
        "B = Blockchain()\n",
        "print(B.blockchain)"
      ],
      "metadata": {
        "colab": {
          "base_uri": "https://localhost:8080/"
        },
        "id": "GkjRdopRK5vc",
        "outputId": "25f4149e-8f44-48d5-b3fb-2fa5b66e02ee"
      },
      "execution_count": null,
      "outputs": [
        {
          "output_type": "stream",
          "name": "stdout",
          "text": [
            "[{'index': 1, 'transactions': [], 'previous_hash': '0000000000000000000000000000000000000000000000000000000000000000', 'current_hash': '03525042c7132a2ec3db14b7aa1db816e61f1311199ae2a31f3ad1c4312047d1'}]\n"
          ]
        }
      ]
    },
    {
      "cell_type": "code",
      "source": [
        "sender = 'a57819938feb51bb3f923496c9dacde3e9f667b214a0fb1653b6bfc0f185363b'\n",
        "message = 'hello'\n",
        "\n",
        "transactions = make_transaction(sender, message)\n",
        "\n",
        "B.add_transaction(transactions)\n",
        "print(B.pool)"
      ],
      "metadata": {
        "colab": {
          "base_uri": "https://localhost:8080/"
        },
        "id": "f9swoMtYK2yz",
        "outputId": "3a294d73-2a89-4c24-8f77-6bd28b8c5847"
      },
      "execution_count": null,
      "outputs": [
        {
          "output_type": "stream",
          "name": "stdout",
          "text": [
            "[{'sender': 'a57819938feb51bb3f923496c9dacde3e9f667b214a0fb1653b6bfc0f185363b', 'message': 'hello'}]\n"
          ]
        }
      ]
    },
    {
      "cell_type": "code",
      "source": [
        "print(\"Add new block\")\n",
        "B.new_block()\n",
        "print(B.blockchain)"
      ],
      "metadata": {
        "colab": {
          "base_uri": "https://localhost:8080/"
        },
        "id": "kKN3i5uDLUQr",
        "outputId": "8f370cb6-6c70-43d3-92b0-3a1862221c80"
      },
      "execution_count": null,
      "outputs": [
        {
          "output_type": "stream",
          "name": "stdout",
          "text": [
            "Add new block\n",
            "[{'index': 1, 'transactions': [], 'previous_hash': '0000000000000000000000000000000000000000000000000000000000000000', 'current_hash': '03525042c7132a2ec3db14b7aa1db816e61f1311199ae2a31f3ad1c4312047d1'}, {'index': 2, 'transactions': [{'sender': 'a57819938feb51bb3f923496c9dacde3e9f667b214a0fb1653b6bfc0f185363b', 'message': 'hello'}], 'previous_hash': '03525042c7132a2ec3db14b7aa1db816e61f1311199ae2a31f3ad1c4312047d1', 'current_hash': 'a79cc460599211dfadb73afc81ce2129cb55df9c43d5f27e522041fab9c8ed35'}]\n"
          ]
        }
      ]
    },
    {
      "cell_type": "code",
      "source": [],
      "metadata": {
        "id": "GPjTaJuULpTM"
      },
      "execution_count": null,
      "outputs": []
    }
  ]
}