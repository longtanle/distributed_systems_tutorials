{
  "cells": [
    {
      "cell_type": "markdown",
      "metadata": {
        "id": "mohlI905gvYq"
      },
      "source": [
        "# COMP3221 - Distributed Systems"
      ]
    },
    {
      "cell_type": "markdown",
      "metadata": {
        "id": "-927sr1XgvYs"
      },
      "source": [
        "## Tutorial 01 - Multithreading"
      ]
    },
    {
      "cell_type": "markdown",
      "metadata": {
        "id": "5rwVrpF2gvYu"
      },
      "source": [
        "**Objectives:**\n",
        "\n",
        "* To develop basic **Python 3** programming skills.\n",
        "* To become familiar with common Python libraries.\n",
        "* To understand the basics of Multithreading in Python programming language."
      ]
    },
    {
      "cell_type": "markdown",
      "metadata": {
        "id": "euONmIcoj3Da"
      },
      "source": [
        "**Instructions:**\n",
        "* Exercises tend to be completed by **Python 3** programming language.\n",
        "* You can either use IPython notebook or just python files to finish the exercises.\n",
        "* To install IPython notebooks and Python 3, you can:\n",
        "   * Use IPython 3 (Jupyter) notebook installed on your computer: http://jupyter.org/install (you need to have Python installed first: https://docs.python.org/3/using/index.html )\n",
        "   * Use Web-based IPython notebooks such as Google Colaboratory: https://colab.research.google.com/   \n",
        "* Using the IPython notebook:\n",
        "  * If you are using Jupyter intalled on your computer, Go to *File -> Open*. Drag and drop the \"*Tutorial 01 - Multithreading.ipynb*\" file to the home interface and click upload.\n",
        "  * If you are using Google Colaboratory, Click *File -> Upload notebook*, and upload the \"*Tutorial 01 - Multithreading.ipynb*\" file.\n",
        "  * To run the code cells you can press *Ctrl-Enter* or hit the *Play* button at the top.\n",
        "* Using python files:\n",
        "  * We recommend using Visual Studio Code as IDE: https://code.visualstudio.com/\n",
        "  \n",
        "* Please complete all exercises marked with **TODO**.\n",
        "* Make sure to save your files when you are done with the exercises, so you can show your tutor next week."
      ]
    },
    {
      "cell_type": "markdown",
      "metadata": {
        "id": "rgOSS4x-gvYv"
      },
      "source": [
        "## 1. Exercise 1: Python threads"
      ]
    },
    {
      "cell_type": "markdown",
      "metadata": {
        "id": "8kjgpS546BTy"
      },
      "source": [
        "In this exercise, we will cover the basics of multithreading in Python programming language."
      ]
    },
    {
      "cell_type": "markdown",
      "metadata": {
        "id": "gcf6zXY16BTy"
      },
      "source": [
        "### What is Thread?"
      ]
    },
    {
      "cell_type": "markdown",
      "metadata": {
        "id": "4ctkM-AG6BTy"
      },
      "source": [
        "$\\rightarrow$ The smallest processing unit that can be performed in an Operating System\n",
        "\n",
        "$\\rightarrow$ The entity within a process that can be scheduled for execution."
      ]
    },
    {
      "cell_type": "markdown",
      "metadata": {
        "id": "q7fb5PGy6BTz"
      },
      "source": [
        "<img src=\"https://miro.medium.com/v2/resize:fit:1400/1*hZ3guTdmDMXevFiT5Z3VrA.png\" width=\"1000\">"
      ]
    },
    {
      "cell_type": "markdown",
      "metadata": {
        "id": "7Gtkwlg16BTz"
      },
      "source": [
        "***Multithreading*** refers to the ability of a processor to execute multiple threads *concurrently*,\n",
        "\n",
        "$\\rightarrow$ Each thread runs a sequence of instructions within a program that can be executed independently of other code.\n",
        "\n",
        "$\\rightarrow$ Share the same code, data, and files but run on a different register and stack."
      ]
    },
    {
      "cell_type": "markdown",
      "metadata": {
        "id": "W57zQwMR7AGT"
      },
      "source": [
        "###  Use Case: Assigment 1"
      ]
    },
    {
      "cell_type": "markdown",
      "metadata": {
        "id": "bT7KQVAW7FQB"
      },
      "source": [
        "In Asg. 1, each node in the network will need to perform multiple tasks concurrently:\n",
        "\n",
        "1. Sending and Receiving the update packets\n",
        "2. Finding the Least-Cost Paths\n",
        "3. Dealing with Link Cost Changes and Node Failures\n"
      ]
    },
    {
      "cell_type": "markdown",
      "metadata": {
        "id": "fZUh433c8Ile"
      },
      "source": [
        "$\\rightarrow$ Multithreading comes to rescue!\n",
        "\n",
        "<img src=\"https://www.cs.uic.edu/~jbell/CourseNotes/OperatingSystems/images/Chapter4/4_02_MultithreadedArchitecture.jpg\" width=\"600\">"
      ]
    },
    {
      "cell_type": "markdown",
      "metadata": {
        "id": "YZdFh8iD8tYn"
      },
      "source": [
        "### How to create a Thread in Python"
      ]
    },
    {
      "cell_type": "markdown",
      "metadata": {
        "id": "OfTuep3H8zqH"
      },
      "source": [
        "<img src=\"https://miro.medium.com/v2/resize:fit:531/0*XmVZKEErfDTV8wqC.jpg\" width=\"400\">"
      ]
    },
    {
      "cell_type": "markdown",
      "metadata": {
        "id": "DzWAuNj7-NwN"
      },
      "source": [
        "### Example"
      ]
    },
    {
      "cell_type": "markdown",
      "metadata": {},
      "source": [
        "#### Import Libraries"
      ]
    },
    {
      "cell_type": "code",
      "execution_count": 20,
      "metadata": {},
      "outputs": [],
      "source": [
        "import threading\n",
        "import os"
      ]
    },
    {
      "cell_type": "markdown",
      "metadata": {},
      "source": [
        "#### Define Tasks"
      ]
    },
    {
      "cell_type": "code",
      "execution_count": 21,
      "metadata": {
        "colab": {
          "base_uri": "https://localhost:8080/"
        },
        "id": "8aefguMw-RLA",
        "outputId": "4aa6cd2a-977d-49c2-dc3c-440a0214fd93"
      },
      "outputs": [],
      "source": [
        "# For thread 1\n",
        "def task1():\n",
        "    print(\"Task 1 assigned to thread: {}\".format(threading.current_thread().name))\n",
        "    print(\"ID of process running task 1: {}\".format(os.getpid()))\n",
        " \n",
        "def task2():\n",
        "    print(\"Task 2 assigned to thread: {}\".format(threading.current_thread().name))\n",
        "    print(\"ID of process running task 2: {}\".format(os.getpid()))\n",
        " "
      ]
    },
    {
      "cell_type": "markdown",
      "metadata": {},
      "source": [
        "#### Start Threads"
      ]
    },
    {
      "cell_type": "markdown",
      "metadata": {},
      "source": [
        "To create a new thread, we create an object of the Thread class. It typically takes the `target`, `name`, and `args` as the parameters. \n",
        "- `target` is the function to be executed by the thread, \n",
        "- `name` is the name of the thread\n",
        "- `args` is the arguments to be passed to the target function"
      ]
    },
    {
      "cell_type": "code",
      "execution_count": 22,
      "metadata": {},
      "outputs": [
        {
          "name": "stdout",
          "output_type": "stream",
          "text": [
            "Task 1 assigned to thread: t1\n",
            "ID of process running task 1: 19460\n",
            "Task 2 assigned to thread: t2\n",
            "ID of process running task 2: 19460\n",
            "Done!\n"
          ]
        }
      ],
      "source": [
        "t1 = threading.Thread(target=task1, name='t1')\n",
        "t2 = threading.Thread(target=task2, name='t2')\n",
        "\n",
        "# To start a thread, we use the start() method of the Thread class.\n",
        "t1.start()\n",
        "t2.start()\n",
        "\n",
        "\n",
        "# End the thread Execution\n",
        "t1.join()\n",
        "t2.join()\n",
        " \n",
        "print(\"Done!\")"
      ]
    },
    {
      "cell_type": "markdown",
      "metadata": {},
      "source": [
        "<img src=\"https://media.geeksforgeeks.org/wp-content/uploads/20230824111950/multithreading-python-5.png\" width=\"300\">"
      ]
    },
    {
      "cell_type": "markdown",
      "metadata": {
        "id": "CG0aKBNSgvYv"
      },
      "source": [
        "### 1.1 Create a thread from scratch"
      ]
    },
    {
      "cell_type": "markdown",
      "metadata": {
        "id": "dglty7F9gvYw"
      },
      "source": [
        "We will implement a new **MyThread** class based on Python standard library *threading* which has following methods: **init, run, stop**.\n",
        "\n",
        "To finish this exercise, all **TODO** needs to be implemented.\n",
        "\n",
        "You can finish the code directly on this notebook or in python file \"*Mythread.py*\"."
      ]
    },
    {
      "cell_type": "code",
      "execution_count": 14,
      "metadata": {
        "id": "89eFkv8kgvYw"
      },
      "outputs": [],
      "source": [
        "# Import threading and time libraries\n",
        "import threading\n",
        "import time\n",
        "\n",
        "class MyThread(threading.Thread):\n",
        "    def __init__(self, threadID, name):\n",
        "        threading.Thread.__init__(self)\n",
        "        self._stop = threading.Event()\n",
        "        self.threadID = threadID\n",
        "        self.name = name\n",
        "    def run(self):\n",
        "        \n",
        "        # TODO: this function is run when we start the thread\n",
        "        # This function keeps running until it gets a stop flag.\n",
        "        # It function will call print_function() to print out the current time.\n",
        "        \n",
        "    def stop(self):\n",
        "        self._stop.set()\n",
        "\n",
        "    def stopped(self):\n",
        "        return self._stop.isSet()\n",
        "\n",
        "# Task\n",
        "def print_function():\n",
        "    print(\"Hello world!!!!\",time.ctime(time.time()))"
      ]
    },
    {
      "cell_type": "code",
      "execution_count": 25,
      "metadata": {},
      "outputs": [],
      "source": [
        "# Import threading and time libraries\n",
        "import threading\n",
        "import time\n",
        "\n",
        "class MyThread(threading.Thread):\n",
        "    def __init__(self, threadID, name):\n",
        "        threading.Thread.__init__(self)\n",
        "        self._stop = threading.Event()\n",
        "        self.threadID = threadID\n",
        "        self.name = name\n",
        "    def run(self):\n",
        "        \n",
        "        # TODO: this function is run when we start the thread\n",
        "        # This function keeps running until it gets a stop flag.\n",
        "        # It function will call print_function() to print out the current time.\n",
        "\n",
        "        print(f\"Starting {self.name} with ID {self.threadID}\")\n",
        "        while True:\n",
        "            if self.stopped():\n",
        "                print(f\"{self.name} + is killed\")\n",
        "                return\n",
        "            time.sleep(1)\n",
        "            print_function()\n",
        "\n",
        "        print(\"Exiting \" + self.name, time.ctime(time.time()))\n",
        "\n",
        "    def stop(self):\n",
        "        self._stop.set()\n",
        "\n",
        "    def stopped(self):\n",
        "        return self._stop.isSet()\n",
        "\n",
        "def print_function():\n",
        "    print(\"Hello world!!!!\",time.ctime(time.time()))"
      ]
    },
    {
      "cell_type": "markdown",
      "metadata": {
        "id": "ZrQ34vtwgvYy"
      },
      "source": [
        "Create a MyThread object, and then using **start** method to start a thread"
      ]
    },
    {
      "cell_type": "code",
      "execution_count": 26,
      "metadata": {
        "id": "RGfXFFI2gvYz"
      },
      "outputs": [
        {
          "name": "stdout",
          "output_type": "stream",
          "text": [
            "Starting Thread-1 with ID 1\n"
          ]
        },
        {
          "name": "stderr",
          "output_type": "stream",
          "text": [
            "C:\\Users\\longt\\AppData\\Local\\Temp\\ipykernel_19460\\498353642.py:31: DeprecationWarning: isSet() is deprecated, use is_set() instead\n",
            "  return self._stop.isSet()\n"
          ]
        },
        {
          "name": "stdout",
          "output_type": "stream",
          "text": [
            "Hello world!!!! Wed Feb 28 14:54:06 2024\n",
            "Hello world!!!! Wed Feb 28 14:54:07 2024\n",
            "Hello world!!!! Wed Feb 28 14:54:08 2024\n",
            "Hello world!!!! Wed Feb 28 14:54:09 2024\n",
            "Hello world!!!! Wed Feb 28 14:54:10 2024\n",
            "Hello world!!!! Wed Feb 28 14:54:11 2024\n",
            "Hello world!!!! Wed Feb 28 14:54:12 2024\n",
            "Hello world!!!! Wed Feb 28 14:54:13 2024\n",
            "Hello world!!!! Wed Feb 28 14:54:14 2024\n"
          ]
        },
        {
          "name": "stdout",
          "output_type": "stream",
          "text": [
            "Hello world!!!! Wed Feb 28 14:54:15 2024\n",
            "Thread-1 + is killed\n"
          ]
        }
      ],
      "source": [
        "# Create a MyThread object, and then using start() method to start a thread\n",
        "thread1 = MyThread(1, \"Thread-1\")\n",
        "thread1.start()\n",
        "\n",
        "time.sleep(10)\n",
        "# Stop the thread\n",
        "thread1.stop()"
      ]
    },
    {
      "cell_type": "markdown",
      "metadata": {
        "id": "MPCz1TcEgvYz"
      },
      "source": [
        "If you use python files, using the following command to execute the code: **python MyThread.py**"
      ]
    },
    {
      "cell_type": "markdown",
      "metadata": {
        "id": "UslnRLS-gvY0"
      },
      "source": [
        "Stop the thread"
      ]
    },
    {
      "cell_type": "code",
      "execution_count": null,
      "metadata": {
        "id": "WW_2arhYgvY0"
      },
      "outputs": [],
      "source": [
        "thread1.stop()"
      ]
    },
    {
      "cell_type": "markdown",
      "metadata": {},
      "source": [
        "##### Solution"
      ]
    },
    {
      "cell_type": "markdown",
      "metadata": {
        "id": "rjel4SAbgvY1"
      },
      "source": [
        "### 1.2 Create a thread using an existing library : \"thread\""
      ]
    },
    {
      "cell_type": "markdown",
      "metadata": {
        "id": "zFOFAwsordwd"
      },
      "source": [
        "We can also use *thread* module to spawn threads. Let try some code and observe the results."
      ]
    },
    {
      "cell_type": "code",
      "execution_count": 24,
      "metadata": {
        "id": "wuLL12IvgvY1"
      },
      "outputs": [
        {
          "name": "stdout",
          "output_type": "stream",
          "text": [
            "Hello world!!!! Thread-1: Wed Feb 28 14:30:21 2024\n",
            "Hello world!!!! Thread-2: Wed Feb 28 14:30:23 2024\n",
            "Hello world!!!! Thread-1: Wed Feb 28 14:30:23 2024\n",
            "Hello world!!!! Thread-1: Wed Feb 28 14:30:25 2024\n",
            "Hello world!!!! Thread-2: Wed Feb 28 14:30:27 2024\n",
            "Hello world!!!! Thread-1: Wed Feb 28 14:30:27 2024\n",
            "Hello world!!!! Thread-1: Wed Feb 28 14:30:29 2024\n",
            "Hello world!!!! Thread-2: Wed Feb 28 14:30:31 2024\n",
            "Hello world!!!! Thread-2: Wed Feb 28 14:30:35 2024\n",
            "Hello world!!!! Thread-2: Wed Feb 28 14:30:39 2024\n"
          ]
        },
        {
          "ename": "KeyboardInterrupt",
          "evalue": "",
          "output_type": "error",
          "traceback": [
            "\u001b[1;31m---------------------------------------------------------------------------\u001b[0m",
            "\u001b[1;31mKeyboardInterrupt\u001b[0m                         Traceback (most recent call last)",
            "Cell \u001b[1;32mIn[24], line 18\u001b[0m\n\u001b[0;32m     15\u001b[0m \u001b[38;5;28;01mexcept\u001b[39;00m:\n\u001b[0;32m     16\u001b[0m     \u001b[38;5;28mprint\u001b[39m(\u001b[38;5;124m\"\u001b[39m\u001b[38;5;124mError: unable to start thread\u001b[39m\u001b[38;5;124m\"\u001b[39m)\n\u001b[1;32m---> 18\u001b[0m \u001b[38;5;28;01mwhile\u001b[39;00m \u001b[38;5;241m1\u001b[39m:\n\u001b[0;32m     19\u001b[0m    \u001b[38;5;28;01mpass\u001b[39;00m\n",
            "\u001b[1;31mKeyboardInterrupt\u001b[0m: "
          ]
        }
      ],
      "source": [
        "import _thread\n",
        "\n",
        "# Define a function for the thread\n",
        "def print_time(threadName, delay):\n",
        "    count = 0\n",
        "    while count < 5:\n",
        "        time.sleep(delay)\n",
        "        count += 1\n",
        "        print (\"Hello world!!!!\", \"%s: %s\" % ( threadName, time.ctime(time.time())))\n",
        "\n",
        "# Create two threads as follows\n",
        "try:\n",
        "    _thread.start_new_thread( print_time, (\"Thread-1\", 2, ) )\n",
        "    _thread.start_new_thread( print_time, (\"Thread-2\", 4, ) )\n",
        "except:\n",
        "    print(\"Error: unable to start thread\")\n",
        "\n",
        "while 1:\n",
        "   pass"
      ]
    },
    {
      "cell_type": "markdown",
      "metadata": {
        "id": "jDSLOkqtzoZe"
      },
      "source": [
        "Program goes in an infinite loop. You will have to press *Ctrl-C* or hit *Stop* button to stop"
      ]
    },
    {
      "cell_type": "markdown",
      "metadata": {
        "id": "8aszYWKJgvY2"
      },
      "source": [
        "## 2. Exercise 2: Communication between producer and consumer"
      ]
    },
    {
      "cell_type": "markdown",
      "metadata": {
        "id": "nSnZkfyYgvY2"
      },
      "source": [
        "Now you know how to spawn threads. Next, we will implement two communicating threads, a producer and a consumer. They communicate by enqueuing and dequeuing messages from a communication channel. The producer and consumer access the same MessageQueue concurrently."
      ]
    },
    {
      "cell_type": "markdown",
      "metadata": {},
      "source": [
        "<img src=\"https://miro.medium.com/v2/resize:fit:1400/1*5u_fpJ1KlSbt7KxrUNVjXg.png\" width=\"500\">"
      ]
    },
    {
      "cell_type": "markdown",
      "metadata": {},
      "source": [
        "> Producer and Consumer share a common buffer or queue. The producer continuously produces certain data and pushes it onto the buffer, whereas the consumer consumes those data from the buffer."
      ]
    },
    {
      "cell_type": "markdown",
      "metadata": {
        "id": "z-GPoOKlgvY2"
      },
      "source": [
        "The code that spawns the threads is indicated below. It is your turn to complete **TODO** and make the code run correctly."
      ]
    },
    {
      "cell_type": "markdown",
      "metadata": {
        "id": "Z_apSjCugvY2"
      },
      "source": [
        "**Consumer thread**"
      ]
    },
    {
      "cell_type": "code",
      "execution_count": null,
      "metadata": {
        "id": "yUqNehPrgvY3"
      },
      "outputs": [],
      "source": [
        "import threading\n",
        "import time\n",
        "import queue\n",
        "\n",
        "class Consumer(threading.Thread):\n",
        "    def __init__(self, mess_queue, processing_time, name):\n",
        "        self._stop = threading.Event()\n",
        "        threading.Thread.__init__(self)\n",
        "        self.q = mess_queue\n",
        "        self.processing_time = processing_time # ThreadID is set to be processing rate\n",
        "        self.name = name\n",
        "\n",
        "    def stop(self):\n",
        "        self._stop.set()\n",
        "\n",
        "    def stopped(self):\n",
        "        return self._stop.is_set()\n",
        "\n",
        "    def run(self):\n",
        "        while(1):\n",
        "            if self.stopped():\n",
        "                print(self.name +  \" is killed\")\n",
        "                return\n",
        "            try:\n",
        "                time.sleep(self.processing_time)\n",
        "            except:\n",
        "                print(\"Already interrupted\")\n",
        "                \n",
        "            # TODO: get message from the queue and printout the message\n"
      ]
    },
    {
      "cell_type": "markdown",
      "metadata": {
        "id": "DQ2-HIKigvY3"
      },
      "source": [
        "**Producer thread**"
      ]
    },
    {
      "cell_type": "code",
      "execution_count": null,
      "metadata": {
        "id": "monhsvCigvY3"
      },
      "outputs": [],
      "source": [
        "class Producer(threading.Thread):\n",
        "    def __init__(self, mess_queue, processing_time, name):\n",
        "        threading.Thread.__init__(self)\n",
        "        self._stop = threading.Event()\n",
        "        self.q = mess_queue\n",
        "        self.processing_time = processing_time\n",
        "        self.name = name\n",
        "\n",
        "    def stop(self):\n",
        "        self._stop.set()\n",
        "\n",
        "    def stopped(self):\n",
        "        return self._stop.is_set()\n",
        "\n",
        "    def run(self):\n",
        "        task_id = 0\n",
        "        while(1):\n",
        "            if self.stopped():\n",
        "                print(self.name +  \" is killed\")\n",
        "                return\n",
        "            try:\n",
        "                time.sleep(self.processing_time)\n",
        "            except:\n",
        "                print(\"Already interrupted\")\n",
        "                \n",
        "            # TODO: Create a message and send it to the queue.\n",
        "            # The message is the current time."
      ]
    },
    {
      "cell_type": "markdown",
      "metadata": {
        "id": "_mmO6Pw_gvY3"
      },
      "source": [
        "Create a queue, thread objects, and start Producer and Consumer threads"
      ]
    },
    {
      "cell_type": "markdown",
      "metadata": {},
      "source": [
        "#### Solution"
      ]
    },
    {
      "cell_type": "code",
      "execution_count": 27,
      "metadata": {},
      "outputs": [],
      "source": [
        "import threading\n",
        "import time \n",
        "import queue\n",
        "\n",
        "class Consumer(threading.Thread):\n",
        "    def __init__(self, mess_queue, processing_time, name):\n",
        "        self._stop = threading.Event() \n",
        "        threading.Thread.__init__(self)\n",
        "        self.q = mess_queue\n",
        "        self.processing_time = processing_time # ThreadID is set to be processing rate\n",
        "        self.name = name\n",
        "    \n",
        "    def stop(self): \n",
        "        self._stop.set() \n",
        "  \n",
        "    def stopped(self): \n",
        "        return self._stop.is_set() \n",
        "    \n",
        "    def run(self):\n",
        "        while(1):\n",
        "            if self.stopped(): \n",
        "                print(self.name +  \" is killed\")\n",
        "                return\n",
        "            try:\n",
        "                time.sleep(self.processing_time)\n",
        "            except:\n",
        "                print(\"Already interrupted\")\n",
        "            mess = self.q.get()\n",
        "            if(mess):\n",
        "                print(\"Consumer consumed: \", mess)"
      ]
    },
    {
      "cell_type": "code",
      "execution_count": 28,
      "metadata": {},
      "outputs": [],
      "source": [
        "class Producer(threading.Thread):\n",
        "    def __init__(self, mess_queue, processing_time, name):\n",
        "        threading.Thread.__init__(self)\n",
        "        self._stop = threading.Event() \n",
        "        self.q = mess_queue\n",
        "        self.processing_time = processing_time\n",
        "        self.name = name\n",
        "    \n",
        "    def stop(self): \n",
        "        self._stop.set() \n",
        "  \n",
        "    def stopped(self): \n",
        "        return self._stop.is_set()\n",
        "    \n",
        "    def run(self):\n",
        "        task_id = 0\n",
        "        while(1):\n",
        "            if self.stopped(): \n",
        "                print(self.name +  \" is killed\")\n",
        "                return\n",
        "            try:\n",
        "                time.sleep(self.processing_time)\n",
        "            except:\n",
        "                print(\"Already interrupted\")\n",
        "            mess = f\"task_id {task_id}\"\n",
        "            print(\"Producer produced: \", mess)\n",
        "            self.q.put(mess)\n",
        "            task_id += 1"
      ]
    },
    {
      "cell_type": "code",
      "execution_count": 29,
      "metadata": {
        "id": "8bAfyWEXgvY4"
      },
      "outputs": [
        {
          "name": "stdout",
          "output_type": "stream",
          "text": [
            "Producer produced:  task_id 0\n",
            "Consumer consumed:  task_id 0\n",
            "Producer produced:  task_id 1\n",
            "Producer produced:  task_id 2\n",
            "Producer is killed\n",
            "Consumer consumed:  task_id 1\n",
            "Consumer consumed:  task_id 2\n"
          ]
        }
      ],
      "source": [
        "q = queue.Queue()\n",
        "\n",
        "# Instantiate producer\n",
        "thProducer = Producer(q, 1, \"Producer\")\n",
        "thProducer.start()\n",
        "\n",
        "# Instantiate consumer\n",
        "thConsumer = Consumer(q, 2, \"Consumer\")\n",
        "thConsumer.start()\n",
        "\n",
        "# Wait for 3 seconds and stop the producer\n",
        "time.sleep(3)\n",
        "thProducer.stop()\n",
        "# Give 10 seconds for consumer processing all task in queue\n",
        "time.sleep(10)"
      ]
    },
    {
      "cell_type": "markdown",
      "metadata": {
        "id": "3CC1Ollyv5U0"
      },
      "source": [
        "## Acknowledgements\n",
        "This tutorial was originally written for COMP3221 - Distributed Systems."
      ]
    }
  ],
  "metadata": {
    "colab": {
      "provenance": []
    },
    "kernelspec": {
      "display_name": "Python 3",
      "language": "python",
      "name": "python3"
    },
    "language_info": {
      "codemirror_mode": {
        "name": "ipython",
        "version": 3
      },
      "file_extension": ".py",
      "mimetype": "text/x-python",
      "name": "python",
      "nbconvert_exporter": "python",
      "pygments_lexer": "ipython3",
      "version": "3.12.1"
    }
  },
  "nbformat": 4,
  "nbformat_minor": 0
}
