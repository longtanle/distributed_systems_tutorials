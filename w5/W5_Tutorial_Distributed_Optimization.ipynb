{
  "cells": [
    {
      "cell_type": "markdown",
      "metadata": {
        "_cell_guid": "e6335977-1dcb-a5bc-4856-184dd7bce3f9",
        "id": "Dw6wGeKmKMJY"
      },
      "source": [
        "# COMP3221 - Distributed Systems "
      ]
    },
    {
      "attachments": {},
      "cell_type": "markdown",
      "metadata": {
        "id": "d8P-He1AKMJb"
      },
      "source": [
        "## Tutorial 05 - Distributed Optimization"
      ]
    },
    {
      "cell_type": "markdown",
      "metadata": {
        "id": "xE_3NQPEKMJb"
      },
      "source": [
        "**Objectives:**\n",
        "\n",
        "* To understand the basics of gradient descent and distributed gradient descent with Linear Regression.\n",
        "\n",
        "**Instructions:**\n",
        "* Exercises tend to be completed by **Python 3** programming language.\n",
        "* You can either use IPython notebook or just python files to finish the exercises. \n",
        "* To install IPython notebooks and Python 3, you can: \n",
        "   * Use IPython 3 (Jupyter) notebook installed on your computer: http://jupyter.org/install (you need to have Python installed first: https://docs.python.org/3/using/index.html )\n",
        "   * Use Web-based IPython notebooks such as Google Colaboratory: https://colab.research.google.com/   \n",
        "* Using the IPython notebook:\n",
        "  * If you are using Jupyter intalled on your computer, Go to *File -> Open*. Drag and drop the \"*.ipynb*\" file to the home interface and click upload. \n",
        "  * If you are using Google Colaboratory, Click *File -> Upload notebook*, and upload the \"*.ipynb*\" file.\n",
        "  * To run the code cells you can press *Ctrl-Enter* or hit the *Play* button at the top.\n",
        "* Using python files:\n",
        "  * We recommend using Visual Studio Code as IDE: https://code.visualstudio.com/\n",
        "  \n",
        "* Please complete all exercises marked with **TODO**.\n",
        "* Make sure to save your files when you are done with the exercises, so you can show your tutor next week."
      ]
    },
    {
      "cell_type": "markdown",
      "metadata": {
        "id": "elFofWanKMJc"
      },
      "source": [
        "## 0. Setup"
      ]
    },
    {
      "cell_type": "code",
      "execution_count": null,
      "metadata": {},
      "outputs": [],
      "source": [
        "!pip install -U scikit-learn\n",
        "!pip install -U matplotlib"
      ]
    },
    {
      "cell_type": "markdown",
      "metadata": {
        "id": "6seJHKojQ0rH"
      },
      "source": [
        "Import some basic libraries"
      ]
    },
    {
      "cell_type": "code",
      "execution_count": null,
      "metadata": {
        "_cell_guid": "0d706811-b70c-aeab-a78b-3c7abd9978d3",
        "id": "q-GhUiH5KMJc"
      },
      "outputs": [],
      "source": [
        "import pandas as pd\n",
        "import numpy as np\n",
        "from numpy import linalg as LA\n",
        "\n",
        "from sklearn.model_selection import train_test_split\n",
        "\n",
        "import matplotlib\n",
        "import matplotlib.pyplot as plt\n",
        "\n",
        "np.random.seed(123)\n",
        "%matplotlib inline"
      ]
    },
    {
      "cell_type": "markdown",
      "metadata": {
        "id": "hFubYkiwKMJc"
      },
      "source": [
        "## 1. Linear Regression"
      ]
    },
    {
      "cell_type": "markdown",
      "metadata": {
        "id": "xJCwndrRPGcy"
      },
      "source": [
        "Linear regression can be used to make predictions about a continuous target variable, using a set of predictor variables. We'll refer to those predictions as $y$, where: \n",
        "$$y = \\underbrace{X}_{m\\times n}\\cdot \\underbrace{w}_{n\\times 1}$$"
      ]
    },
    {
      "cell_type": "markdown",
      "metadata": {
        "id": "88NIG-RURTy3"
      },
      "source": [
        "\n",
        "\n",
        "\n",
        "and $X$ is a matrix of $m$ observations, each observation composed of $n$ predictor variables. Additionally, $w$ is a vector of $n$ _weights_ (aka coefficients). "
      ]
    },
    {
      "cell_type": "markdown",
      "metadata": {
        "id": "fpgKr2YBKMJf"
      },
      "source": [
        "In machine learning, gradient descent iteratively updates the weights to minimize some loss function. The loss function's job is to tell us how wrong our weights are at any given step of the algorithm. For linear regression, our loss function is the mean squared error (MSE):\n",
        " $$MSE = \\frac{1}{2N} ||y - Xw||^2 $$"
      ]
    },
    {
      "cell_type": "markdown",
      "metadata": {
        "id": "Epp_mZPkKMJd"
      },
      "source": [
        "### 1.1 Generate a linear synthetic data"
      ]
    },
    {
      "cell_type": "markdown",
      "metadata": {
        "id": "nBjpMjk-Rp3e"
      },
      "source": [
        "Since we focus on the Linear Regression algorithm, we'll  generate a dataset $(X,y)$ that is amenable to a linear function."
      ]
    },
    {
      "cell_type": "code",
      "execution_count": null,
      "metadata": {
        "id": "W4C-XE-oKMJe"
      },
      "outputs": [],
      "source": [
        "X = np.random.rand(5000)\n",
        "y = 4 + 3 * X + .5*np.random.randn(5000)\n",
        "\n",
        "# Split the data into training set and test set\n",
        "xTrain, xTest, yTrain, yTest = train_test_split(X, y, test_size = 0.2, random_state = 0)\n",
        "\n",
        "# Add an extra columns of ones \n",
        "one = np.ones((xTrain.shape[0],1))\n",
        "xTrainbar = np.concatenate((one, xTrain.reshape(-1, 1)), axis = 1)"
      ]
    },
    {
      "cell_type": "markdown",
      "metadata": {},
      "source": [
        "**Question**: Why do we need to add an extra columns of ones to xTrain?"
      ]
    },
    {
      "cell_type": "code",
      "execution_count": null,
      "metadata": {
        "id": "xYSM4l2xKMJe",
        "outputId": "2764d1b6-a11b-4175-8ed0-a8ff6b1e38ac"
      },
      "outputs": [
        {
          "data": {
            "image/png": "[encoded data removed]",
            "text/plain": [
              "<Figure size 432x288 with 1 Axes>"
            ]
          },
          "metadata": {
            "needs_background": "light"
          },
          "output_type": "display_data"
        }
      ],
      "source": [
        "import matplotlib.pylab as pl\n",
        "%matplotlib inline\n",
        "\n",
        "# Grab the relevant data, scale the predictor variable, and add a column of 1s for the gradient descent...\n",
        "pl.scatter(xTrainbar[:,1], yTrain,marker='.', color = 'r', label = 'Training samples')\n",
        "pl.xlabel('X')\n",
        "pl.ylabel('y')\n",
        "pl.legend(loc='lower right')\n",
        "plt.title('Linear Problems')\n",
        "pl.grid()\n",
        "pl.show()"
      ]
    },
    {
      "cell_type": "markdown",
      "metadata": {
        "id": "gdteSxb7KMJf"
      },
      "source": [
        "### 1.2. Solving Linear Regression model"
      ]
    },
    {
      "cell_type": "markdown",
      "metadata": {
        "id": "6-dOeSNyKMJf"
      },
      "source": [
        "#### 1.2.1 Closed-form solution:\n",
        "\n",
        "With the Closed-form solution, we can obtain the optimal parameters for the Linear Regression algorithm by just using a formula that includes a few matrix multiplications and inversions.\n",
        "\n",
        "* Closed-form solution: $w = (X^TX)^{-1}X^Ty$"
      ]
    },
    {
      "cell_type": "markdown",
      "metadata": {
        "id": "IRTiHDKiKMJf"
      },
      "source": [
        "**TASK: Finding the closed-form solution.**"
      ]
    },
    {
      "cell_type": "code",
      "execution_count": null,
      "metadata": {
        "id": "F_zvrCkNKMJg",
        "outputId": "3731dbf7-057b-4079-ca01-535fe0d275b5"
      },
      "outputs": [
        {
          "name": "stdout",
          "output_type": "stream",
          "text": [
            "Direct Solution: [4.0137594  2.98708128]\n"
          ]
        }
      ],
      "source": [
        "# TODO: Finding closed-form solution using the above formula\n",
        "wCF = \n",
        "print(\"Direct Solution:\", wCF) # wCF is the weight obtained from closed-form solution"
      ]
    },
    {
      "cell_type": "code",
      "execution_count": null,
      "metadata": {
        "id": "y--qL8nTKMJg",
        "outputId": "c24cd0cc-09f4-40b5-bccf-f16da7471b3e"
      },
      "outputs": [
        {
          "data": {
            "image/png": "[encoded data removed]",
            "text/plain": [
              "<Figure size 432x288 with 1 Axes>"
            ]
          },
          "metadata": {
            "needs_background": "light"
          },
          "output_type": "display_data"
        }
      ],
      "source": [
        "import matplotlib.pylab as pl\n",
        "%matplotlib inline\n",
        "\n",
        "w_0 = wCF[0]\n",
        "w_1 = wCF[1]\n",
        "x0 = np.linspace(0, 1, 2, endpoint=True)\n",
        "y0 = w_0 + w_1*x0\n",
        "plt.plot(x0, y0, label = 'Closed form solution')  \n",
        "# Grab the relevant data, scale the predictor variable, and add a column of 1s for the gradient descent...\n",
        "pl.scatter(xTrainbar[:,1], yTrain,marker='.', color = 'r', label = 'Training samples')\n",
        "pl.xlabel('X')\n",
        "pl.ylabel('y')\n",
        "pl.legend(loc='lower right')\n",
        "plt.title('Linear Problems')\n",
        "pl.grid()\n",
        "pl.show()"
      ]
    },
    {
      "cell_type": "markdown",
      "metadata": {},
      "source": [
        "##### What are the advantages and disadvantages of this method?\n"
      ]
    },
    {
      "cell_type": "markdown",
      "metadata": {
        "id": "urKPgxXRKMJg"
      },
      "source": [
        "#### 1.2.2 Finding solution using Gradient Descent:"
      ]
    },
    {
      "cell_type": "markdown",
      "metadata": {},
      "source": [
        "Gradient Descent is an iterative algorithm meaning that you need to take multiple steps to get to the global optimum (to find the optimal parameters). Steps to do Gradient Descent:\n",
        "\n",
        "* Initialize $w =  w^{(0)}$ randomly:\n",
        "* Choose learning rate $ \\eta> 0$\n",
        "*  Loop until convergence:\n",
        "\n",
        "    Compute Gradient: $\\nabla mse(w) = \\frac{1}{N}X^T(Xw^t-y)$\n",
        "    \n",
        "    Update parameters: $w^{t+1} = w^t - \\eta * \\nabla mse(w)$"
      ]
    },
    {
      "cell_type": "markdown",
      "metadata": {
        "id": "6tc9i581TjB2"
      },
      "source": [
        "In our implementation, we will define a number of `iterations` which updates to `w`."
      ]
    },
    {
      "cell_type": "code",
      "execution_count": null,
      "metadata": {
        "id": "Tj8nVN1BKMJg"
      },
      "outputs": [],
      "source": [
        "# get all sample for each interation\n",
        "def gradient_descent(x, y, w, iterations, eta):\n",
        "    past_loss = []\n",
        "    past_w = [w]\n",
        "    n = y.size\n",
        "    for i in range(iterations):\n",
        "\n",
        "        #TODO: Complete the gradient descent steps\n",
        "        w =  # Update new parameters\n",
        "\n",
        "        past_w.append(w)\n",
        "        \n",
        "    return past_w, past_loss"
      ]
    },
    {
      "cell_type": "code",
      "execution_count": null,
      "metadata": {
        "id": "UfqWOoSKKMJg",
        "outputId": "6aa0d7b7-5564-41b7-e539-568004593392"
      },
      "outputs": [
        {
          "name": "stdout",
          "output_type": "stream",
          "text": [
            "[4.02685916 2.96241017]\n",
            "0.12702784179001783\n"
          ]
        },
        {
          "data": {
            "image/png": "[encoded data removed]",
            "text/plain": [
              "<Figure size 432x288 with 1 Axes>"
            ]
          },
          "metadata": {
            "needs_background": "light"
          },
          "output_type": "display_data"
        }
      ],
      "source": [
        "eta = 0.1 # Learning Rate\n",
        "iterations = 500 # No. of iterations\n",
        "w_init = np.array([2, 1])\n",
        "(wGD, pastLoss) = gradient_descent(xTrainbar,yTrain, w_init, iterations, eta)\n",
        "print(wGD[-1])\n",
        "print(pastLoss[-1])\n",
        "plt.title('Gradient descent')\n",
        "plt.xlabel('No. of iterations')\n",
        "plt.ylabel('Rmse Lost')\n",
        "plt.plot(pastLoss)\n",
        "plt.show()"
      ]
    },
    {
      "cell_type": "markdown",
      "metadata": {
        "id": "XWnAuy6mKMJh"
      },
      "source": [
        "Let compare with solution from Sklean and the closed-form solution"
      ]
    },
    {
      "cell_type": "code",
      "execution_count": null,
      "metadata": {
        "id": "CdCWXGZRKMJh",
        "outputId": "8ecb1a78-42d0-4b18-8f38-a565a0f2471a"
      },
      "outputs": [
        {
          "name": "stdout",
          "output_type": "stream",
          "text": [
            "[4.0137594  2.98708128]\n"
          ]
        }
      ],
      "source": [
        "from sklearn.linear_model import LinearRegression\n",
        "\n",
        "model = LinearRegression()\n",
        "model.fit(xTrain.reshape(-1, 1), yTrain.reshape(-1, 1))\n",
        "wSK, b = model.coef_[0][0], model.intercept_[0] \n",
        "sol_sklearn = np.array([b, wSK])\n",
        "print(sol_sklearn)"
      ]
    },
    {
      "cell_type": "markdown",
      "metadata": {
        "id": "ewybOfbwKMJh"
      },
      "source": [
        "The solutions from gradient descent, closed-form, sklearn are similar!"
      ]
    },
    {
      "cell_type": "markdown",
      "metadata": {},
      "source": [
        "#### 1.2.3 Change of Learning Rate"
      ]
    },
    {
      "cell_type": "markdown",
      "metadata": {},
      "source": [
        "Next, let's visualize the effect of learning rate on the behaviour of gradient descent in linear regression. Again, we use the plot-contour function to visualize the optimization landscape."
      ]
    },
    {
      "cell_type": "code",
      "execution_count": null,
      "metadata": {},
      "outputs": [],
      "source": [
        "import itertools\n",
        "def plot_contour(f, x1bound, x2bound, resolution, ax):\n",
        "    x1range = np.linspace(x1bound[0], x1bound[1], resolution)\n",
        "    x2range = np.linspace(x2bound[0], x2bound[1], resolution)\n",
        "    xg, yg = np.meshgrid(x1range, x2range)\n",
        "    zg = np.zeros_like(xg)\n",
        "    for i,j in itertools.product(range(resolution), range(resolution)):\n",
        "        zg[i,j] = f([xg[i,j], yg[i,j]])\n",
        "    ax.contour(xg, yg, zg, 100)\n",
        "    return ax"
      ]
    },
    {
      "cell_type": "markdown",
      "metadata": {},
      "source": [
        "Let's track the steps of the gradient descent using different values for the learning rate."
      ]
    },
    {
      "cell_type": "code",
      "execution_count": null,
      "metadata": {},
      "outputs": [],
      "source": [
        "cost = lambda w: .5*np.mean((w[0] + w[1]*xTrainbar[:,1] - yTrain)**2)\n",
        "learning_rates = [0.001, 0.01, 0.1, 0.5]\n",
        "fig, axes = plt.subplots(ncols=len(learning_rates), nrows=1, constrained_layout=True, figsize=(10, 4))\n",
        "for i, lr in enumerate(learning_rates):\n",
        "    w_init = np.array([8, 4])\n",
        "    wGD, pastLoss = gradient_descent(xTrainbar,yTrain, w_init, 50, lr)\n",
        "\n",
        "    plot_contour(cost, [-2,10], [-10,10], 50, axes[i])\n",
        "    w_hist = np.vstack(wGD)   # get the history for plotting\n",
        "    axes[i].plot(w_hist[:,1], w_hist[:,0], '.r', alpha=.8)\n",
        "    axes[i].plot(w_hist[:,1], w_hist[:,0], '-r', alpha=.3)\n",
        "    axes[i].set_xlabel(r'$w_0$')\n",
        "    axes[i].set_ylabel(r'$w_1$')\n",
        "    axes[i].set_title(f'learning rate = {lr}')\n",
        "    #axes[i].set_xlim([-2, 10])\n",
        "    #axes[i].set_ylim([-10,10])\n",
        "plt.show()"
      ]
    },
    {
      "cell_type": "markdown",
      "metadata": {},
      "source": [
        "**Question**: What happen if the learning rate is set too small or too large?"
      ]
    },
    {
      "cell_type": "markdown",
      "metadata": {
        "id": "D6hWoZZcKMJj"
      },
      "source": [
        "## 2. Distributed Gradient Descent for Linear Regression"
      ]
    },
    {
      "cell_type": "markdown",
      "metadata": {},
      "source": [
        "Distributed Gradient Descent for linear regression is an approach used to handle large datasets or to speed up the computation of gradient descent by distributing the workload across multiple machines or processors. "
      ]
    },
    {
      "cell_type": "markdown",
      "metadata": {},
      "source": [
        "**Distributed Gradient Descent Steps**\n",
        "\n",
        "In a distributed setting, the dataset is partitioned into $k$ subsets, and each subset is assigned to a different node. Each node computes the gradient based on its subset of data. Let's denote the subset of data on the $j$-th node as $X_j$ and $y_j$. The gradient computed on the $j$-th node is:\n",
        "\n",
        "$$ \\nabla {mse}_j(w) = \\frac{1}{m_j} X_j^T(X_jw - y_j) $$\n",
        "where $m_j$ is the number of observations in the $j$-th subset.\n",
        "\n",
        "**Aggregation and Parameter Update**\n",
        "\n",
        "After each node computes its gradient, the gradients are sent to a central coordinator or are aggregated using a distributed aggregation algorithm. The overall gradient is the average of the gradients from all nodes:\n",
        "$$ \\nabla {mse}(w)_{\\text{agg}} = \\frac{1}{k} \\sum_{j=1}^{k} \\nabla {mse}_j(w) $$\n",
        "Finally, the parameter vector $w$ is updated using the aggregated gradient:\n",
        "$$ w := w - \\eta \\nabla {mse}(w)_{\\text{agg}} $$\n",
        "where $\\eta$ is the learning rate, a positive scalar determining the step size at each iteration of gradient descent."
      ]
    },
    {
      "cell_type": "markdown",
      "metadata": {},
      "source": [
        "Assuming we have 5 users, we distribute the original data to 5 users."
      ]
    },
    {
      "cell_type": "code",
      "execution_count": null,
      "metadata": {
        "id": "2zwOuVRdKMJj"
      },
      "outputs": [],
      "source": [
        "numUser = 5\n",
        "uListTrain = []\n",
        "uListTest = []\n",
        "uTrainLen = len(xTrain)//numUser\n",
        "uTestLen = len(xTest)//numUser\n",
        "for i in range(numUser):\n",
        "    uListTrain.append(np.c_[xTrain[uTrainLen*i:uTrainLen*(i+1)], yTrain[uTrainLen*i:uTrainLen*(i+1)]])\n",
        "    uListTest.append(np.c_[xTest[uTestLen*i:uTestLen*(i+1)], yTest[uTestLen*i:uTestLen*(i+1)]])"
      ]
    },
    {
      "cell_type": "markdown",
      "metadata": {
        "id": "54sToTztKMJj"
      },
      "source": [
        "Implementation for distributed gradient descent"
      ]
    },
    {
      "cell_type": "code",
      "execution_count": null,
      "metadata": {
        "id": "gwHtti_BKMJj"
      },
      "outputs": [],
      "source": [
        "def distributed_gradient_descent(uListTrain, w, iterations, eta):\n",
        "    past_loss = []\n",
        "    past_w = [w]\n",
        "    for i in range(iterations):\n",
        "        # find w with respect to each users\n",
        "        GradRmse = np.zeros(len(w)) # Gradient \n",
        "        loss = 0\n",
        "        for user in uListTrain:\n",
        "            x, y = zip(*user)\n",
        "            x, y = np.array(x).reshape(len(x),1), np.array(y)\n",
        "            x = np.c_[np.ones(x.shape[0]), x]\n",
        "            m = len(y)\n",
        "            #TODO: Calculate Loss and Gradient for each user\n",
        "            \n",
        "        # Aggregate Loss and Gradient\n",
        "        loss = # TODO: Compute the average loss  from all users\n",
        "        GradRmse = # TODO: Compute the average gradients from all users\n",
        "\n",
        "        past_loss.append(loss)\n",
        "\n",
        "        # Update Parameters\n",
        "        w = w - (eta * GradRmse)\n",
        "        past_w.append(w)\n",
        "        \n",
        "    return past_w, past_loss"
      ]
    },
    {
      "cell_type": "code",
      "execution_count": null,
      "metadata": {
        "id": "jSdcJHItKMJj",
        "outputId": "a72b4e8a-15ce-4563-b7a9-7e14999380b7"
      },
      "outputs": [
        {
          "data": {
            "image/png": "[encoded data removed]",
            "text/plain": [
              "<Figure size 432x288 with 1 Axes>"
            ]
          },
          "metadata": {
            "needs_background": "light"
          },
          "output_type": "display_data"
        }
      ],
      "source": [
        "# Pass the relevant variables to the function and get the new values back...\n",
        "eta = 0.01 # Learning Rate\n",
        "iterations = 100 # No. of iterations\n",
        "np.random.seed(123)\n",
        "w0 = np.random.rand(2) # Pick some random values to start with\n",
        "wDis, pastLoss = distributed_gradient_descent(uListTrain, w0, iterations, eta)\n",
        "# Plot the cost function...\n",
        "plt.title('Distributed gradient descent')\n",
        "plt.xlabel('No. of iterations')\n",
        "plt.ylabel('RSS Lost')\n",
        "plt.plot(pastLoss)\n",
        "plt.show()"
      ]
    },
    {
      "cell_type": "code",
      "execution_count": null,
      "metadata": {
        "id": "HpCyFieXKMJj",
        "outputId": "67a5b5c6-7b88-4ca2-b6a2-519716a9e1a6"
      },
      "outputs": [
        {
          "name": "stdout",
          "output_type": "stream",
          "text": [
            "[4.02724539 2.96168277]\n"
          ]
        }
      ],
      "source": [
        "print(wDis[-1])"
      ]
    }
  ],
  "metadata": {
    "_change_revision": 0,
    "_is_fork": false,
    "colab": {
      "collapsed_sections": [],
      "name": "Copy of Distributed_optimization_solution.ipynb",
      "provenance": []
    },
    "kernelspec": {
      "display_name": "Python 3 (ipykernel)",
      "language": "python",
      "name": "python3"
    },
    "language_info": {
      "codemirror_mode": {
        "name": "ipython",
        "version": 3
      },
      "file_extension": ".py",
      "mimetype": "text/x-python",
      "name": "python",
      "nbconvert_exporter": "python",
      "pygments_lexer": "ipython3",
      "version": "3.8.9"
    }
  },
  "nbformat": 4,
  "nbformat_minor": 0
}
