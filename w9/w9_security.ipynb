{
  "cells": [
    {
      "cell_type": "markdown",
      "metadata": {
        "id": "fXaw6G23d5Zi"
      },
      "source": [
        "# COMP3221 - Week 9 - Security"
      ]
    },
    {
      "cell_type": "code",
      "execution_count": null,
      "metadata": {
        "id": "KDjERmZylTrK"
      },
      "outputs": [],
      "source": [
        "!git clone https://github.com/longtanle/distributed_systems_tutorials\n",
        "%cd distributed_systems_tutorials/w9"
      ]
    },
    {
      "cell_type": "markdown",
      "metadata": {
        "id": "5oApPYuRd9A6"
      },
      "source": [
        "The goal of this tutorial is to better understand the main technique to achieve security and to use cryptographic signatures to verify the ownership of blockchain assets."
      ]
    },
    {
      "cell_type": "markdown",
      "metadata": {
        "id": "SsJfg0dZLcek"
      },
      "source": [
        "## **Digital Signatures**"
      ]
    },
    {
      "cell_type": "markdown",
      "metadata": {
        "id": "iyXLV9ZrPk9i"
      },
      "source": [
        "### Overview"
      ]
    },
    {
      "cell_type": "markdown",
      "metadata": {
        "id": "RJdCVZVBLsmg"
      },
      "source": [
        "<img src=\"https://alexromanov.github.io/img/20220515/howsignworks.png\" width=600>"
      ]
    },
    {
      "cell_type": "markdown",
      "metadata": {
        "id": "N1A6mvzVL2VF"
      },
      "source": [
        "A special mathematical algorithm that allows checking the **integrity** and **authenticity** of messages.\n",
        "\n",
        "\n",
        "1. **Integrity**: The recipient and sender ensure that the message has not been modified during transmission → using Hash Function\n",
        "\n",
        "\n",
        "1. **Authenticity**: The recipient be sure that the sender sent the message → using Asymmetric Encryption\n",
        "\n",
        "\n"
      ]
    },
    {
      "cell_type": "markdown",
      "metadata": {
        "id": "zIw6QL9EOV0o"
      },
      "source": [
        "<img src=\"https://pub.mdpi-res.com/cryptography/cryptography-06-00025/article_deploy/html/images/cryptography-06-00025-g001-550.jpg?1652940133\" width=500>"
      ]
    },
    {
      "cell_type": "markdown",
      "metadata": {
        "id": "vanlK5K2Mu6q"
      },
      "source": [
        "There are many algorithms for digital signatures: **RSA-PSS**, **DSA**, **ECDSA**, **Rabin signature**, and **Schnorr signature**."
      ]
    },
    {
      "cell_type": "markdown",
      "metadata": {
        "id": "WiVE00E-Rcp8"
      },
      "source": [
        "#### **Question**: How to distribute Public Key?"
      ]
    },
    {
      "cell_type": "markdown",
      "metadata": {
        "id": "HLCOu2QUSUUw"
      },
      "source": [
        "<img src=\"https://blog.cloudflare.com/content/images/2017/09/image10.png\" width=500>"
      ]
    },
    {
      "cell_type": "markdown",
      "metadata": {
        "id": "Vz9eL4z3PbI1"
      },
      "source": [
        "### Digital Signature - Usage in Blockchain"
      ]
    },
    {
      "cell_type": "markdown",
      "metadata": {
        "id": "4U07odrEPn1K"
      },
      "source": [
        "<img src=\"https://alexromanov.github.io/img/20220515/signblockchain.png\" width=700>"
      ]
    },
    {
      "cell_type": "markdown",
      "metadata": {
        "id": "DMtkcA35PyFi"
      },
      "source": [
        "Every time you make a new transaction in the wallet, the transaction is signed with your key.\n",
        "\n",
        "- In the blockchain, you can check who created one or the other transaction.\n",
        "\n",
        "- Everybody in the blockchain can check and prove that particular transaction was sent by a user with the correct private key.\n",
        "\n",
        "Additionally, each new block is signed by a miner of this block."
      ]
    },
    {
      "cell_type": "markdown",
      "metadata": {
        "id": "4_Vi8UpLQGPt"
      },
      "source": [
        "**Bitcoin** initially used the **ECDSA** algorithm for signing transactions, and now using the **Schnorr signature**.\n",
        "\n",
        "**Ethereum** currently uses **ECDSA**.\n",
        "\n",
        "**Cardano** uses **Ed25519**."
      ]
    },
    {
      "cell_type": "markdown",
      "metadata": {
        "id": "pNtnPLwCd-sC"
      },
      "source": [
        "## **Exercise 1: Signature**"
      ]
    },
    {
      "cell_type": "markdown",
      "metadata": {
        "id": "E3hHJaA8eC7y"
      },
      "source": [
        "Use the **ed25519** digital signature algorithm to sign a request and verify that the signature is correct.\n",
        "\n",
        "**ed25519** is a digital signature scheme based on elliptic curves.\n",
        "We will use the cryptography Python library to create and validate **ed25519**  signatures."
      ]
    },
    {
      "cell_type": "markdown",
      "metadata": {
        "id": "nXjLrVcDRMY5"
      },
      "source": [
        "<img src=\"https://blog.mozilla.org/warner/files/2011/11/key-formats.png\" width=500>"
      ]
    },
    {
      "cell_type": "markdown",
      "metadata": {
        "id": "aXnbJOW-KCY8"
      },
      "source": [
        "Install the library in your Python environment."
      ]
    },
    {
      "cell_type": "code",
      "execution_count": null,
      "metadata": {
        "colab": {
          "base_uri": "https://localhost:8080/"
        },
        "id": "LOqYour3KDNj",
        "outputId": "444a2f34-f0fe-451a-bbbf-f33fa3a769c5"
      },
      "outputs": [
        {
          "name": "stdout",
          "output_type": "stream",
          "text": [
            "Requirement already satisfied: cryptography in /usr/local/lib/python3.10/dist-packages (42.0.5)\n",
            "Requirement already satisfied: cffi>=1.12 in /usr/local/lib/python3.10/dist-packages (from cryptography) (1.16.0)\n",
            "Requirement already satisfied: pycparser in /usr/local/lib/python3.10/dist-packages (from cffi>=1.12->cryptography) (2.22)\n"
          ]
        }
      ],
      "source": [
        "!pip install cryptography"
      ]
    },
    {
      "cell_type": "markdown",
      "metadata": {
        "id": "Om2PMKdWKBSa"
      },
      "source": [
        "\n",
        "Execute the following example. We import the private key class, generate a random private\n",
        "key, and generate a signature for an example message. Then, we derive the public key for\n",
        "the private key that we used to sign the message, and verify the signature with the public\n",
        "key."
      ]
    },
    {
      "cell_type": "code",
      "execution_count": null,
      "metadata": {
        "colab": {
          "base_uri": "https://localhost:8080/"
        },
        "id": "hxgX8fqRKHni",
        "outputId": "15bcad7c-320b-439b-e21c-8b217e717dce"
      },
      "outputs": [
        {
          "name": "stdout",
          "output_type": "stream",
          "text": [
            "5457c383eee393e399b2effa1033b37c7710875ab88f704634dc3fed371240ed\n",
            "390e7701bf85a999cab65d3691f7af0ba7140c630ded545fbcaf39c0df68e826\n"
          ]
        }
      ],
      "source": [
        "from cryptography.hazmat.primitives.asymmetric.ed25519 import Ed25519PrivateKey\n",
        "\n",
        "private_key = Ed25519PrivateKey.generate()\n",
        "signature = private_key.sign(b\"my authenticated message\")\n",
        "public_key = private_key.public_key()\n",
        "\n",
        "print(private_key.private_bytes_raw().hex())\n",
        "print(public_key.public_bytes_raw().hex())"
      ]
    },
    {
      "cell_type": "code",
      "execution_count": null,
      "metadata": {
        "colab": {
          "base_uri": "https://localhost:8080/"
        },
        "id": "iA0KIZwGrbgH",
        "outputId": "bbdabf33-6fce-413d-c78e-fee754a5bb5b"
      },
      "outputs": [
        {
          "name": "stdout",
          "output_type": "stream",
          "text": [
            "None\n"
          ]
        }
      ],
      "source": [
        "# Raises InvalidSignature if verification fails\n",
        "print(public_key.verify(signature, b\"my authenticated message\"))"
      ]
    },
    {
      "cell_type": "code",
      "execution_count": null,
      "metadata": {
        "colab": {
          "base_uri": "https://localhost:8080/",
          "height": 165
        },
        "id": "10vCmaRkrztL",
        "outputId": "8e7ad633-ffc2-44c3-9a96-4de32a21d69f"
      },
      "outputs": [
        {
          "ename": "InvalidSignature",
          "evalue": "",
          "output_type": "error",
          "traceback": [
            "\u001b[0;31m---------------------------------------------------------------------------\u001b[0m",
            "\u001b[0;31mInvalidSignature\u001b[0m                          Traceback (most recent call last)",
            "\u001b[0;32m<ipython-input-7-283c6d644d4b>\u001b[0m in \u001b[0;36m<cell line: 2>\u001b[0;34m()\u001b[0m\n\u001b[1;32m      1\u001b[0m \u001b[0;31m# Raises InvalidSignature if verification fails\u001b[0m\u001b[0;34m\u001b[0m\u001b[0;34m\u001b[0m\u001b[0m\n\u001b[0;32m----> 2\u001b[0;31m \u001b[0mprint\u001b[0m\u001b[0;34m(\u001b[0m\u001b[0mpublic_key\u001b[0m\u001b[0;34m.\u001b[0m\u001b[0mverify\u001b[0m\u001b[0;34m(\u001b[0m\u001b[0msignature\u001b[0m\u001b[0;34m,\u001b[0m \u001b[0;34mb\"not my authenticated message\"\u001b[0m\u001b[0;34m)\u001b[0m\u001b[0;34m)\u001b[0m\u001b[0;34m\u001b[0m\u001b[0;34m\u001b[0m\u001b[0m\n\u001b[0m",
            "\u001b[0;31mInvalidSignature\u001b[0m: "
          ]
        }
      ],
      "source": [
        "# Raises InvalidSignature if verification fails\n",
        "print(public_key.verify(signature, b\"not my authenticated message\"))"
      ]
    },
    {
      "cell_type": "markdown",
      "metadata": {
        "id": "N26lO6-meiSp"
      },
      "source": [
        "## **Exercise 2: Authentication in Blockchain**"
      ]
    },
    {
      "cell_type": "markdown",
      "metadata": {
        "id": "bjVWoML5eknF"
      },
      "source": [
        "Using the signature above, make sure that your blockchain updates a data item only if the update is correctly signed by the owner of this data item.\n",
        "\n",
        "In Lab 7, we defined transaction as follows."
      ]
    },
    {
      "cell_type": "code",
      "execution_count": null,
      "metadata": {
        "id": "sExk4hnaKWbD"
      },
      "outputs": [],
      "source": [
        "transaction = {\n",
        "    'sender': 'a57819938feb51bb3f923496c9dacde3e9f667b214a0fb1653b6bfc0f185363b',\n",
        "    'message': 'hello'\n",
        "}"
      ]
    },
    {
      "cell_type": "markdown",
      "metadata": {
        "id": "ogOj3qE3ezMd"
      },
      "source": [
        "### Task 2.1 - Signing"
      ]
    },
    {
      "cell_type": "markdown",
      "metadata": {
        "id": "UR8XiKeoe2-B"
      },
      "source": [
        "Now, we want to sign the transaction and ensure the message authenticity in the blockchain. As with the hashes, we need to *define a deterministic string representation for the transaction that will be signed*. An example of such representation is similar to the one we used for the block.\n",
        "\n",
        "First, we define a Python dictionary for the transaction, and use the JSON library to create an object with lexicographically sorted dictionary keys.\n",
        "\n",
        "Integrate the digital signatures into your blockchain implementation from Lab 7. Define a signature based on the sender and message transaction field keys, and include a signature into the message. On the blockchain side, modify the verification function to decode the sender as a public key, and verify the included signature against the message and the sender public key. Consider the signature verification in conjunction with other verification criteria."
      ]
    },
    {
      "cell_type": "code",
      "execution_count": null,
      "metadata": {
        "id": "SabYLatiK3Dg"
      },
      "outputs": [],
      "source": [
        "from cryptography.exceptions import InvalidSignature\n",
        "import cryptography.hazmat.primitives.asymmetric.ed25519 as ed25519\n",
        "from enum import Enum\n",
        "import hashlib\n",
        "import json\n",
        "import re\n",
        "\n",
        "sender_valid = re.compile('^[a-fA-F0-9]{64}$')\n",
        "# signature_valid = re.compile()\n",
        "\n",
        "TransactionValidationError = Enum('TransactionValidationError', ['INVALID_JSON', 'INVALID_SENDER', 'INVALID_MESSAGE', 'INVALID_SIGNATURE'])\n",
        "\n",
        "def make_transaction(sender, message, signature) -> str:\n",
        "\treturn json.dumps({'sender': sender, 'message': message, 'signature': signature})\n",
        "\n",
        "def transaction_bytes(transaction: dict) -> bytes:\n",
        "\t# TODO return JSON string of the transaction as bytes, using json.dumps with sort_keys=True, including only 'sender' and 'message'\n",
        "\tpass\n",
        "\n",
        "def make_signature(private_key: ed25519.Ed25519PrivateKey, message: str) -> str:\n",
        "\t# TODO create a transaction dictionary with the derived public key from private key as 'sender', and message\n",
        "\t# return hex representation of signature, created by calling private_key.sign and using transaction_bytes function\n",
        "\tpass\n",
        "\n",
        "def validate_transaction(transaction: str) -> dict | TransactionValidationError:\n",
        "\ttry:\n",
        "\t\ttx = json.loads(transaction)\n",
        "\texcept json.JSONDecodeError:\n",
        "\t\treturn TransactionValidationError.INVALID_JSON\n",
        "\n",
        "\tif not(tx.get('sender') and isinstance(tx['sender'], str) and sender_valid.search(tx['sender'])):\n",
        "\t\treturn TransactionValidationError.INVALID_SENDER\n",
        "\n",
        "\tif not(tx.get('message') and isinstance(tx['message'], str) and len(tx['message']) <= 70 and tx['message'].isalnum()):\n",
        "\t\treturn TransactionValidationError.INVALID_MESSAGE\n",
        "\n",
        "\t# TODO verify signature and return INVALID_SIGNATURE if signature verification fails\n",
        "\t# use ed25519.Ed25519PublicKey.from_public_bytes to get Ed25519PublicKey object from 'sender' attribute\n",
        "\t# verify 'signature' field similar to 'sender', requiring a hex string of length 128\n",
        "\t# call public_key.verify to verify the signature. catch InvalidSignature if it is raised\n",
        "\n",
        "\treturn tx"
      ]
    },
    {
      "cell_type": "code",
      "execution_count": null,
      "metadata": {
        "id": "9UGZ46PJLH7g"
      },
      "outputs": [],
      "source": [
        "class Blockchain():\n",
        "\tdef  __init__(self):\n",
        "\t\tself.blockchain = []\n",
        "\t\tself.pool = []\n",
        "\t\tself.new_block('0' * 64)\n",
        "\n",
        "\tdef new_block(self, previous_hash=None):\n",
        "\t\tblock = {\n",
        "\t\t\t'index': len(self.blockchain) + 1,\n",
        "\t\t\t'transactions': self.pool.copy(),\n",
        "\t\t\t'previous_hash': previous_hash or self.blockchain[-1]['current_hash'],\n",
        "\t\t}\n",
        "\t\tblock['current_hash'] = self.calculate_hash(block)\n",
        "\t\tself.pool = []\n",
        "\t\tself.blockchain.append(block)\n",
        "\n",
        "\tdef last_block(self):\n",
        "\t\treturn self.blockchain[-1]\n",
        "\n",
        "\tdef calculate_hash(self, block: dict) -> str:\n",
        "\t\tblock_object: str = json.dumps({k: block.get(k) for k in ['index', 'transactions', 'previous_hash']}, sort_keys=True)\n",
        "\t\tblock_string = block_object.encode()\n",
        "\t\traw_hash = hashlib.sha256(block_string)\n",
        "\t\thex_hash = raw_hash.hexdigest()\n",
        "\t\treturn hex_hash\n",
        "\n",
        "\tdef add_transaction(self, transaction: str) -> bool:\n",
        "\t\tif isinstance((tx := validate_transaction(transaction)), dict):\n",
        "\t\t\tself.pool.append(tx)\n",
        "\t\t\treturn True\n",
        "\t\treturn False"
      ]
    },
    {
      "cell_type": "markdown",
      "metadata": {
        "id": "_bOCCZBwS6de"
      },
      "source": [
        "#### Solution"
      ]
    },
    {
      "cell_type": "code",
      "execution_count": null,
      "metadata": {
        "id": "_lMhgjJES6NW"
      },
      "outputs": [],
      "source": []
    },
    {
      "cell_type": "markdown",
      "metadata": {
        "id": "tQONN47aKm17"
      },
      "source": [
        "### Task 2.2 – Testing"
      ]
    },
    {
      "cell_type": "markdown",
      "metadata": {
        "id": "sckyM2SpKrWD"
      },
      "source": [
        "Here is a private key:\n",
        "`6dee02b55d8914c145568cb3f3b84586ead2a85910f5b062d7f3f29ddcb4c7aa`\n",
        "\n",
        "Use this private key in the following example to test if you implemented the signature generation correctly."
      ]
    },
    {
      "cell_type": "markdown",
      "metadata": {
        "id": "C-SiF8ectP5P"
      },
      "source": [
        "```\n",
        "{\n",
        "    'sender': 'a57819938feb51bb3f923496c9dacde3e9f667b214a0fb1653b6bfc0f185363b',\n",
        "    'message': 'hello',\n",
        "    'signature': '402f2e4de75883ae7350335206d0e903072b0790226cf9a536b475e028557265eb0712827a273ef422ca7247c5fbd86919c0bfa6c6067364de6b1366a1702b0b'\n",
        "}\n",
        "```"
      ]
    },
    {
      "cell_type": "markdown",
      "metadata": {
        "id": "4Ei237s6t8xS"
      },
      "source": [
        "Create private key object from the hex string"
      ]
    },
    {
      "cell_type": "code",
      "execution_count": null,
      "metadata": {
        "colab": {
          "base_uri": "https://localhost:8080/"
        },
        "id": "9_bB5GtXsULR",
        "outputId": "bf7a40ca-9c1a-4858-9998-67161818ab07"
      },
      "outputs": [
        {
          "data": {
            "text/plain": [
              "<cryptography.hazmat.bindings._rust.openssl.ed25519.Ed25519PrivateKey at 0x7c319cbc4970>"
            ]
          },
          "execution_count": 13,
          "metadata": {},
          "output_type": "execute_result"
        }
      ],
      "source": [
        "privated_hex = \"6dee02b55d8914c145568cb3f3b84586ead2a85910f5b062d7f3f29ddcb4c7aa\"\n",
        "loaded_private_key = Ed25519PrivateKey.from_private_bytes(bytes.fromhex(privated_hex))\n",
        "loaded_private_key"
      ]
    },
    {
      "cell_type": "markdown",
      "metadata": {
        "id": "eBVBer29uCbD"
      },
      "source": [
        "Get the public key string from the private key"
      ]
    },
    {
      "cell_type": "code",
      "execution_count": null,
      "metadata": {
        "colab": {
          "base_uri": "https://localhost:8080/",
          "height": 36
        },
        "id": "Dk0aDiKGsw3B",
        "outputId": "d1f21cfd-ed19-43f2-b7ae-edc29c2f5372"
      },
      "outputs": [
        {
          "data": {
            "application/vnd.google.colaboratory.intrinsic+json": {
              "type": "string"
            },
            "text/plain": [
              "'a57819938feb51bb3f923496c9dacde3e9f667b214a0fb1653b6bfc0f185363b'"
            ]
          },
          "execution_count": 14,
          "metadata": {},
          "output_type": "execute_result"
        }
      ],
      "source": [
        "loaded_private_key.public_key().public_bytes_raw().hex()"
      ]
    },
    {
      "cell_type": "markdown",
      "metadata": {
        "id": "h9geewkKuGrr"
      },
      "source": [
        "Generate signature using `make_signature` function"
      ]
    },
    {
      "cell_type": "code",
      "execution_count": null,
      "metadata": {
        "colab": {
          "base_uri": "https://localhost:8080/",
          "height": 36
        },
        "id": "jXKkypVRtGAk",
        "outputId": "3372ae04-e0b3-455b-aaac-3d0d83578696"
      },
      "outputs": [
        {
          "data": {
            "application/vnd.google.colaboratory.intrinsic+json": {
              "type": "string"
            },
            "text/plain": [
              "'ea2d7f7f72849fae4c1d5bf3ea74b10dc64a645790f05e231cb4bddc67d7efbc0e2eca70392b445f834cab13053687faaf7ff1b385c2890628284e2161bfcb0d'"
            ]
          },
          "execution_count": 16,
          "metadata": {},
          "output_type": "execute_result"
        }
      ],
      "source": [
        "message = 'hello'\n",
        "signature = make_signature(loaded_private_key, message)\n",
        "signature"
      ]
    },
    {
      "cell_type": "markdown",
      "metadata": {
        "id": "ugVdpGmSuLTh"
      },
      "source": [
        "Verify the sample transaction"
      ]
    },
    {
      "cell_type": "code",
      "execution_count": null,
      "metadata": {
        "colab": {
          "base_uri": "https://localhost:8080/"
        },
        "id": "z7PDs3cQten1",
        "outputId": "7fbf5902-96f4-4975-cd39-fbdba4ca5343"
      },
      "outputs": [
        {
          "data": {
            "text/plain": [
              "<TransactionValidationError.INVALID_SIGNATURE: 4>"
            ]
          },
          "execution_count": 17,
          "metadata": {},
          "output_type": "execute_result"
        }
      ],
      "source": [
        "sender = 'a57819938feb51bb3f923496c9dacde3e9f667b214a0fb1653b6bfc0f185363b'\n",
        "message = 'hello'\n",
        "signature = '402f2e4de75883ae7350335206d0e903072b0790226cf9a536b475e028557265eb0712827a273ef422ca7247c5fbd86919c0bfa6c6067364de6b1366a1702b0b'\n",
        "\n",
        "transaction = make_transaction(sender, message, signature)\n",
        "validate_transaction(transaction)"
      ]
    },
    {
      "cell_type": "markdown",
      "metadata": {
        "id": "ZNypu-H3uORJ"
      },
      "source": [
        "Verify the new transaction"
      ]
    },
    {
      "cell_type": "code",
      "execution_count": null,
      "metadata": {
        "colab": {
          "base_uri": "https://localhost:8080/"
        },
        "id": "jMG5HZX_tw3B",
        "outputId": "b8700615-ed81-4f91-8aec-60147b37581c"
      },
      "outputs": [
        {
          "data": {
            "text/plain": [
              "{'sender': 'a57819938feb51bb3f923496c9dacde3e9f667b214a0fb1653b6bfc0f185363b',\n",
              " 'message': 'hello',\n",
              " 'signature': 'ea2d7f7f72849fae4c1d5bf3ea74b10dc64a645790f05e231cb4bddc67d7efbc0e2eca70392b445f834cab13053687faaf7ff1b385c2890628284e2161bfcb0d'}"
            ]
          },
          "execution_count": 18,
          "metadata": {},
          "output_type": "execute_result"
        }
      ],
      "source": [
        "sender = 'a57819938feb51bb3f923496c9dacde3e9f667b214a0fb1653b6bfc0f185363b'\n",
        "message = 'hello'\n",
        "signature = 'ea2d7f7f72849fae4c1d5bf3ea74b10dc64a645790f05e231cb4bddc67d7efbc0e2eca70392b445f834cab13053687faaf7ff1b385c2890628284e2161bfcb0d'\n",
        "\n",
        "transaction = make_transaction(sender, message, signature)\n",
        "validate_transaction(transaction)"
      ]
    },
    {
      "cell_type": "markdown",
      "metadata": {
        "id": "6dNLS8Y6sxWU"
      },
      "source": [
        "### Test Blockchain"
      ]
    },
    {
      "cell_type": "code",
      "execution_count": null,
      "metadata": {
        "colab": {
          "base_uri": "https://localhost:8080/"
        },
        "id": "GkjRdopRK5vc",
        "outputId": "2097fa07-5401-4499-9522-09771947f51a"
      },
      "outputs": [
        {
          "name": "stdout",
          "output_type": "stream",
          "text": [
            "[{'index': 1, 'transactions': [], 'previous_hash': '0000000000000000000000000000000000000000000000000000000000000000', 'current_hash': '03525042c7132a2ec3db14b7aa1db816e61f1311199ae2a31f3ad1c4312047d1'}]\n"
          ]
        }
      ],
      "source": [
        "# Create a block as dictionary\n",
        "B = Blockchain()\n",
        "print(B.blockchain)"
      ]
    },
    {
      "cell_type": "markdown",
      "metadata": {
        "id": "0i16pd_cuoK3"
      },
      "source": [
        "Create a new private-public key pair for the transaction"
      ]
    },
    {
      "cell_type": "code",
      "execution_count": null,
      "metadata": {
        "colab": {
          "base_uri": "https://localhost:8080/",
          "height": 36
        },
        "id": "PL8cbByyucgA",
        "outputId": "cedc5f04-e3f2-49a8-c552-9287a4bdb659"
      },
      "outputs": [
        {
          "data": {
            "application/vnd.google.colaboratory.intrinsic+json": {
              "type": "string"
            },
            "text/plain": [
              "'f314b3931b9e69721c7458e8da1fbfa4606943e27b0ff53a4c90cfd274f82a3c'"
            ]
          },
          "execution_count": 20,
          "metadata": {},
          "output_type": "execute_result"
        }
      ],
      "source": [
        "private_key = Ed25519PrivateKey.generate()\n",
        "public_key = private_key.public_key()\n",
        "\n",
        "public_hex = public_key.public_bytes_raw().hex()\n",
        "public_hex"
      ]
    },
    {
      "cell_type": "markdown",
      "metadata": {
        "id": "3IpUyYkOvXF8"
      },
      "source": [
        "Generate signature for the message"
      ]
    },
    {
      "cell_type": "code",
      "execution_count": null,
      "metadata": {
        "colab": {
          "base_uri": "https://localhost:8080/",
          "height": 36
        },
        "id": "OJgx5XOJvAJ8",
        "outputId": "ce485c48-4904-4414-bc9d-47f2f38c3520"
      },
      "outputs": [
        {
          "data": {
            "application/vnd.google.colaboratory.intrinsic+json": {
              "type": "string"
            },
            "text/plain": [
              "'887f57bb11cebee8746dab11d87e1c6536e7ccdc2e66da93b38825dcc8f48d11debe3dff966b3c30004a6d7b4d747f462bfd8583a5fba546f0d34a4ac10c8a04'"
            ]
          },
          "execution_count": 26,
          "metadata": {},
          "output_type": "execute_result"
        }
      ],
      "source": [
        "sender = public_hex\n",
        "message = 'Transaction'\n",
        "\n",
        "signature = make_signature(private_key, message)\n",
        "signature"
      ]
    },
    {
      "cell_type": "markdown",
      "metadata": {
        "id": "3nch4tipvaFc"
      },
      "source": [
        "Create transaction"
      ]
    },
    {
      "cell_type": "code",
      "execution_count": null,
      "metadata": {
        "colab": {
          "base_uri": "https://localhost:8080/",
          "height": 54
        },
        "id": "KHVndSi9vBq2",
        "outputId": "0bd38dfb-617d-4511-f360-6dde119ca34f"
      },
      "outputs": [
        {
          "data": {
            "application/vnd.google.colaboratory.intrinsic+json": {
              "type": "string"
            },
            "text/plain": [
              "'{\"sender\": \"f314b3931b9e69721c7458e8da1fbfa4606943e27b0ff53a4c90cfd274f82a3c\", \"message\": \"Transaction\", \"signature\": \"887f57bb11cebee8746dab11d87e1c6536e7ccdc2e66da93b38825dcc8f48d11debe3dff966b3c30004a6d7b4d747f462bfd8583a5fba546f0d34a4ac10c8a04\"}'"
            ]
          },
          "execution_count": 27,
          "metadata": {},
          "output_type": "execute_result"
        }
      ],
      "source": [
        "transactions = make_transaction(sender, message, signature)\n",
        "transactions"
      ]
    },
    {
      "cell_type": "markdown",
      "metadata": {
        "id": "9Wbu4Mmqvcfv"
      },
      "source": [
        "Add transaction to the pool"
      ]
    },
    {
      "cell_type": "code",
      "execution_count": null,
      "metadata": {
        "colab": {
          "base_uri": "https://localhost:8080/"
        },
        "id": "f9swoMtYK2yz",
        "outputId": "f43d12b1-31d3-41c4-96b1-0741e6ed0b5b"
      },
      "outputs": [
        {
          "name": "stdout",
          "output_type": "stream",
          "text": [
            "[{'sender': 'f314b3931b9e69721c7458e8da1fbfa4606943e27b0ff53a4c90cfd274f82a3c', 'message': 'Transaction', 'signature': '887f57bb11cebee8746dab11d87e1c6536e7ccdc2e66da93b38825dcc8f48d11debe3dff966b3c30004a6d7b4d747f462bfd8583a5fba546f0d34a4ac10c8a04'}]\n"
          ]
        }
      ],
      "source": [
        "B.add_transaction(transactions)\n",
        "print(B.pool)"
      ]
    },
    {
      "cell_type": "markdown",
      "metadata": {
        "id": "m7gKnkRlveh1"
      },
      "source": [
        "Add new block"
      ]
    },
    {
      "cell_type": "code",
      "execution_count": null,
      "metadata": {
        "colab": {
          "base_uri": "https://localhost:8080/"
        },
        "id": "kKN3i5uDLUQr",
        "outputId": "7420aafa-436a-450f-adb7-de9ff9f1691e"
      },
      "outputs": [
        {
          "name": "stdout",
          "output_type": "stream",
          "text": [
            "Add new block\n",
            "[{'index': 1, 'transactions': [], 'previous_hash': '0000000000000000000000000000000000000000000000000000000000000000', 'current_hash': '03525042c7132a2ec3db14b7aa1db816e61f1311199ae2a31f3ad1c4312047d1'}, {'index': 2, 'transactions': [{'sender': 'f314b3931b9e69721c7458e8da1fbfa4606943e27b0ff53a4c90cfd274f82a3c', 'message': 'Transaction', 'signature': '887f57bb11cebee8746dab11d87e1c6536e7ccdc2e66da93b38825dcc8f48d11debe3dff966b3c30004a6d7b4d747f462bfd8583a5fba546f0d34a4ac10c8a04'}], 'previous_hash': '03525042c7132a2ec3db14b7aa1db816e61f1311199ae2a31f3ad1c4312047d1', 'current_hash': '367efaf3b692df8d01095ec0ffdb74d5afff6f406b65d6082e500499eae437af'}]\n"
          ]
        }
      ],
      "source": [
        "print(\"Add new block\")\n",
        "B.new_block()\n",
        "print(B.blockchain)"
      ]
    },
    {
      "cell_type": "code",
      "execution_count": null,
      "metadata": {
        "id": "5Wcw-5qxvVxR"
      },
      "outputs": [],
      "source": []
    }
  ],
  "metadata": {
    "colab": {
      "provenance": []
    },
    "kernelspec": {
      "display_name": "Python 3",
      "name": "python3"
    },
    "language_info": {
      "name": "python"
    }
  },
  "nbformat": 4,
  "nbformat_minor": 0
}
