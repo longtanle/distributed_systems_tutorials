{
  "nbformat": 4,
  "nbformat_minor": 0,
  "metadata": {
    "colab": {
      "provenance": [],
      "collapsed_sections": [
        "W62XdFnsk57C",
        "6Yc9z3JAk4Fg",
        "d5eZAgY-n_Kw"
      ]
    },
    "kernelspec": {
      "name": "python3",
      "display_name": "Python 3"
    },
    "language_info": {
      "name": "python"
    }
  },
  "cells": [
    {
      "cell_type": "markdown",
      "source": [
        "# COMP3221 - Week 10 - Replication"
      ],
      "metadata": {
        "id": "JRYduJpMj4gE"
      }
    },
    {
      "cell_type": "markdown",
      "source": [
        "The goal of this lab is to integrate a multi-threaded TCP server with blockchain and test network connectivity."
      ],
      "metadata": {
        "id": "jdbrvxTCj_kL"
      }
    },
    {
      "cell_type": "markdown",
      "source": [
        "## **Exercise 1: Blockchain and TCP server integration**"
      ],
      "metadata": {
        "id": "h4xh6-llkDri"
      }
    },
    {
      "cell_type": "markdown",
      "source": [
        "\n",
        "In the previous labs and assignments, you worked with TCP servers for communication. Integrate the Blockchain class with the TCP server. Make sure that there are no data races when storing the transactions from the clients that connect at the same time by using a synchronization primitive such as `threading.Lock`. Use the prefixed send and receive primitives provided in the Assignment 3 archive `network.py` file."
      ],
      "metadata": {
        "id": "pnbU2DEEkC1o"
      }
    },
    {
      "cell_type": "markdown",
      "source": [
        "Use the following message format."
      ],
      "metadata": {
        "id": "kiJnNsHGkJ3u"
      }
    },
    {
      "cell_type": "markdown",
      "source": [
        "Sample transaction request."
      ],
      "metadata": {
        "id": "_dd5rZRJkdZt"
      }
    },
    {
      "cell_type": "code",
      "execution_count": null,
      "metadata": {
        "id": "ZVRTZYI8j3hk"
      },
      "outputs": [],
      "source": [
        "{\n",
        "    \"sender\": \"a57819938feb51bb3f923496c9dacde3e9f667b214a0fb1653b6bfc0f185363b\",\n",
        "    \"message\": \"hello\",\n",
        "    \"nonce\": 0,\n",
        "    \"signature\": \"142e395895e0bf4e4a3a7c3aabf2f59d80c517d24bb2d98a1a24384bc7cb29c9d593ce3063c5dd4f12ae9393f3345174485c052d0f5e87c082f286fd60c7fd0c\"\n",
        "}"
      ]
    },
    {
      "cell_type": "markdown",
      "source": [
        "Sample transaction response."
      ],
      "metadata": {
        "id": "QRTB4oplkS8M"
      }
    },
    {
      "cell_type": "code",
      "source": [
        "{\n",
        "  \"response\": True\n",
        "}"
      ],
      "metadata": {
        "id": "xzaYd5A4kU-_"
      },
      "execution_count": null,
      "outputs": []
    },
    {
      "cell_type": "markdown",
      "source": [
        "### Blockchain"
      ],
      "metadata": {
        "id": "AQrQARPTvDEg"
      }
    },
    {
      "cell_type": "code",
      "source": [
        "from cryptography.exceptions import InvalidSignature\n",
        "import cryptography.hazmat.primitives.asymmetric.ed25519 as ed25519\n",
        "from enum import Enum\n",
        "import hashlib\n",
        "import json\n",
        "import re\n",
        "\n",
        "sender_valid = re.compile('^[a-fA-F0-9]{64}$')\n",
        "signature_valid = re.compile('^[a-fA-F0-9]{128}$')\n",
        "\n",
        "TransactionValidationError = Enum('TransactionValidationError', ['INVALID_JSON', 'INVALID_SENDER', 'INVALID_MESSAGE', 'INVALID_SIGNATURE'])\n",
        "\n",
        "def make_transaction(sender, message, signature) -> str:\n",
        "\treturn json.dumps({'sender': sender, 'message': message, 'signature': signature})\n",
        "\n",
        "def transaction_bytes(transaction: dict) -> bytes:\n",
        "\treturn json.dumps({k: transaction.get(k) for k in ['sender', 'message']}, sort_keys=True).encode()\n",
        "\n",
        "def make_signature(private_key: ed25519.Ed25519PrivateKey, message: str) -> str:\n",
        "\ttransaction = {'sender': private_key.public_key().public_bytes_raw().hex(), 'message': message}\n",
        "\treturn private_key.sign(transaction_bytes(transaction)).hex()\n",
        "\n",
        "def validate_transaction(transaction: str) -> dict | TransactionValidationError:\n",
        "\ttry:\n",
        "\t\ttx = json.loads(transaction)\n",
        "\texcept json.JSONDecodeError:\n",
        "\t\treturn TransactionValidationError.INVALID_JSON\n",
        "\n",
        "\tif not(tx.get('sender') and isinstance(tx['sender'], str) and sender_valid.search(tx['sender'])):\n",
        "\t\treturn TransactionValidationError.INVALID_SENDER\n",
        "\n",
        "\tif not(tx.get('message') and isinstance(tx['message'], str) and len(tx['message']) <= 70 and tx['message'].isalnum()):\n",
        "\t\treturn TransactionValidationError.INVALID_MESSAGE\n",
        "\n",
        "\tpublic_key = ed25519.Ed25519PublicKey.from_public_bytes(bytes.fromhex(tx['sender']))\n",
        "\tif not(tx.get('signature') and isinstance(tx['signature'], str) and signature_valid.search(tx['signature'])):\n",
        "\t\treturn TransactionValidationError.INVALID_SIGNATURE\n",
        "\ttry:\n",
        "\t\tpublic_key.verify(bytes.fromhex(tx['signature']), transaction_bytes(tx))\n",
        "\texcept InvalidSignature:\n",
        "\t\treturn TransactionValidationError.INVALID_SIGNATURE\n",
        "\n",
        "\treturn tx\n",
        "\n",
        "\n",
        "class Blockchain():\n",
        "\tdef  __init__(self):\n",
        "\t\tself.blockchain = []\n",
        "\t\tself.pool = []\n",
        "\t\tself.new_block('0' * 64)\n",
        "\n",
        "\tdef new_block(self, previous_hash=None):\n",
        "\t\tblock = {\n",
        "\t\t\t'index': len(self.blockchain) + 1,\n",
        "\t\t\t'transactions': self.pool.copy(),\n",
        "\t\t\t'previous_hash': previous_hash or self.blockchain[-1]['current_hash'],\n",
        "\t\t}\n",
        "\t\tblock['current_hash'] = self.calculate_hash(block)\n",
        "\t\tself.pool = []\n",
        "\t\tself.blockchain.append(block)\n",
        "\n",
        "\tdef last_block(self):\n",
        "\t\treturn self.blockchain[-1]\n",
        "\n",
        "\tdef calculate_hash(self, block: dict) -> str:\n",
        "\t\tblock_object: str = json.dumps({k: block.get(k) for k in ['index', 'transactions', 'previous_hash']}, sort_keys=True)\n",
        "\t\tblock_string = block_object.encode()\n",
        "\t\traw_hash = hashlib.sha256(block_string)\n",
        "\t\thex_hash = raw_hash.hexdigest()\n",
        "\t\treturn hex_hash\n",
        "\n",
        "\tdef add_transaction(self, transaction: str) -> bool:\n",
        "\t\tif isinstance((tx := validate_transaction(transaction)), dict):\n",
        "\t\t\tself.pool.append(tx)\n",
        "\t\t\treturn True\n",
        "\t\treturn False\n"
      ],
      "metadata": {
        "id": "Te6BO5DlvFG2"
      },
      "execution_count": null,
      "outputs": []
    },
    {
      "cell_type": "markdown",
      "source": [
        "### Network"
      ],
      "metadata": {
        "id": "W62XdFnsk57C"
      }
    },
    {
      "cell_type": "code",
      "source": [
        "import socket\n",
        "import struct\n",
        "\n",
        "def recv_exact(sock: socket.socket, msglen):\n",
        "\tchunks = []\n",
        "\tbytes_recd = 0\n",
        "\twhile bytes_recd < msglen:\n",
        "\t\tchunk = sock.recv(min(msglen - bytes_recd, 2048))\n",
        "\t\tif chunk == b'':\n",
        "\t\t\traise RuntimeError(\"socket connection broken\")\n",
        "\t\tchunks.append(chunk)\n",
        "\t\tbytes_recd = bytes_recd + len(chunk)\n",
        "\treturn b''.join(chunks)\n",
        "\n",
        "def send_exact(sock: socket.socket, msg: bytes):\n",
        "\ttotalsent = 0\n",
        "\twhile totalsent < len(msg):\n",
        "\t\tsent = sock.send(msg[totalsent:])\n",
        "\t\tif sent == 0:\n",
        "\t\t\traise RuntimeError(\"socket connection broken\")\n",
        "\t\ttotalsent = totalsent + sent\n",
        "\n",
        "def recv_prefixed(sock: socket.socket):\n",
        "\tsize_bytes = recv_exact(sock, 2)\n",
        "\tsize = struct.unpack(\"!H\", size_bytes)[0]\n",
        "\tif size == 0:\n",
        "\t\traise RuntimeError(\"empty message\")\n",
        "\tif size > 65535 - 2:\n",
        "\t\traise RuntimeError(\"message too large\")\n",
        "\treturn recv_exact(sock, size)\n",
        "\n",
        "def send_prefixed(sock: socket.socket, msg: bytes):\n",
        "\tsize = len(msg)\n",
        "\tif size == 0:\n",
        "\t\traise RuntimeError(\"empty message\")\n",
        "\tif size > 65535 - 2:\n",
        "\t\traise RuntimeError(\"message too large\")\n",
        "\tsize_bytes = struct.pack(\"!H\", size)\n",
        "\tsend_exact(sock, size_bytes + msg)\n"
      ],
      "metadata": {
        "id": "46LAXTFFk8WH"
      },
      "execution_count": null,
      "outputs": []
    },
    {
      "cell_type": "markdown",
      "source": [
        "### **Client**"
      ],
      "metadata": {
        "id": "6Yc9z3JAk4Fg"
      }
    },
    {
      "cell_type": "code",
      "source": [
        "import cryptography.hazmat.primitives.asymmetric.ed25519 as ed25519\n",
        "import socket\n",
        "\n",
        "from blockchain import make_signature, make_transaction\n",
        "from network import recv_prefixed, send_prefixed\n",
        "\n",
        "# TODO generate a private key and create a transaction using make_signature and make_transaction\n",
        "# using the derived public key as the sender\n",
        "\n",
        "# TODO create a socket and connect to the blockchain node\n",
        "\n",
        "# TODO send the transaction, receive the response and print it\n"
      ],
      "metadata": {
        "id": "neNSYurzk_qK"
      },
      "execution_count": null,
      "outputs": []
    },
    {
      "cell_type": "markdown",
      "source": [
        "### **Server (Node)**"
      ],
      "metadata": {
        "id": "igd_7f2GlAXG"
      }
    },
    {
      "cell_type": "code",
      "source": [
        "from argparse import ArgumentParser\n",
        "import json\n",
        "from threading import Lock\n",
        "import socketserver\n",
        "\n",
        "from blockchain import Blockchain\n",
        "from network import recv_prefixed, send_prefixed\n",
        "\n",
        "class MyTCPServer(socketserver.ThreadingTCPServer):\n",
        "\tdef __init__(self, server_address, RequestHandlerClass, bind_and_activate=True):\n",
        "\t\t# TODO initialize self.blockchain and self.blockchain_lock\n",
        "\t\tsuper().__init__(server_address, RequestHandlerClass, bind_and_activate)\n",
        "\n",
        "class MyTCPHandler(socketserver.BaseRequestHandler):\n",
        "\tserver: MyTCPServer\n",
        "\n",
        "\tdef handle(self):\n",
        "\t\t# TODO create an infinite loop with the following steps\n",
        "\t\t# 1. receive data from the client using recv_prefixed and self.request\n",
        "\t\t# break to exit the loop in case of exception\n",
        "\t\t# 2. print the received data\n",
        "\t\t# 3. add the transaction to blockchain. use self.blockchain_lock to avoid data race\n",
        "\t\t# 4. send the response to the client using send_prefixed\n",
        "\t\tpass\n",
        "\n",
        "if __name__ == '__main__':\n",
        "\t# TODO setup ArgumentParser with a required port argument of type int\n",
        "\n",
        "\tHOST = 'localhost'\n",
        "\n",
        "\t# TODO create an instance of MyTCPServer with the host, port, and MyTCPHandler\n",
        "\t# and use serve_forever to serve the requests. This will keep running until you\n",
        "\t# interrupt the program with Ctrl-C\n"
      ],
      "metadata": {
        "id": "Ua4nYozLlC68"
      },
      "execution_count": null,
      "outputs": []
    },
    {
      "cell_type": "markdown",
      "source": [
        "#### Race Condition"
      ],
      "metadata": {
        "id": "d5eZAgY-n_Kw"
      }
    },
    {
      "cell_type": "markdown",
      "source": [
        " Two or more threads can access shared data and they try to change it at the same time."
      ],
      "metadata": {
        "id": "6sIEFt9yqp9z"
      }
    },
    {
      "cell_type": "markdown",
      "source": [
        "<img src=\"https://i0.wp.com/contribute.geeksforgeeks.org/wp-content/uploads/race_condition.png\" width=600>"
      ],
      "metadata": {
        "id": "rPvDeHzIoDEt"
      }
    },
    {
      "cell_type": "markdown",
      "source": [
        "→ The values of variables may be unpredictable and vary depending on the timings of context switches of the processes."
      ],
      "metadata": {
        "id": "Q2L2JAzOqs20"
      }
    },
    {
      "cell_type": "code",
      "source": [
        "import threading\n",
        "import time\n",
        "\n",
        "# Shared data\n",
        "counter = 0\n",
        "\n",
        "def increment():\n",
        "    global counter\n",
        "    for _ in range(20000):\n",
        "        # Adding a small sleep to force the CPU to switch between threads more often\n",
        "        temp = counter\n",
        "        time.sleep(0.00001)  # Introducing a tiny delay\n",
        "        counter = temp + 1\n",
        "\n",
        "# Creating threads\n",
        "thread1 = threading.Thread(target=increment)\n",
        "thread2 = threading.Thread(target=increment)\n",
        "\n",
        "# Starting threads\n",
        "thread1.start()\n",
        "thread2.start()\n",
        "\n",
        "# Waiting for both threads to finish\n",
        "thread1.join()\n",
        "thread2.join()\n",
        "\n",
        "print(f\"Expected counter value: 40000\")\n",
        "print(f\"Actual counter value: {counter}\")\n"
      ],
      "metadata": {
        "colab": {
          "base_uri": "https://localhost:8080/"
        },
        "id": "HaC2yQKQq7_5",
        "outputId": "50dc8df1-b782-4661-b376-68c1ddd7cf4d"
      },
      "execution_count": 10,
      "outputs": [
        {
          "output_type": "stream",
          "name": "stdout",
          "text": [
            "Expected counter value: 40000\n",
            "Actual counter value: 20001\n"
          ]
        }
      ]
    },
    {
      "cell_type": "markdown",
      "source": [
        "#### Threading Lock"
      ],
      "metadata": {
        "id": "NFeDAovmoNQJ"
      }
    },
    {
      "cell_type": "markdown",
      "source": [
        "<img src=\"https://i0.wp.com/contribute.geeksforgeeks.org/wp-content/uploads/thread_sync.png\" width=600>"
      ],
      "metadata": {
        "id": "BguSPD5moLMF"
      }
    },
    {
      "cell_type": "code",
      "source": [
        "import threading\n",
        "\n",
        "# Shared data\n",
        "counter = 0\n",
        "lock = threading.Lock()\n",
        "\n",
        "def increment():\n",
        "    global counter\n",
        "    for _ in range(20000):\n",
        "        with lock:\n",
        "            # Ensuring only one thread can execute this block at once\n",
        "            counter += 1\n",
        "\n",
        "# Creating threads\n",
        "thread1 = threading.Thread(target=increment)\n",
        "thread2 = threading.Thread(target=increment)\n",
        "\n",
        "# Starting threads\n",
        "thread1.start()\n",
        "thread2.start()\n",
        "\n",
        "# Waiting for both threads to finish\n",
        "thread1.join()\n",
        "thread2.join()\n",
        "\n",
        "print(f\"Expected counter value: 40000\")\n",
        "print(f\"Actual counter value: {counter}\")\n"
      ],
      "metadata": {
        "colab": {
          "base_uri": "https://localhost:8080/"
        },
        "id": "i3QnLsLZuwo3",
        "outputId": "d03a6328-1d78-4a19-c404-ca0c7fdea274"
      },
      "execution_count": 11,
      "outputs": [
        {
          "output_type": "stream",
          "name": "stdout",
          "text": [
            "Expected counter value: 40000\n",
            "Actual counter value: 40000\n"
          ]
        }
      ]
    },
    {
      "cell_type": "markdown",
      "source": [
        "## **Exercise 2: Testing**"
      ],
      "metadata": {
        "id": "nAUqlyPlkepg"
      }
    },
    {
      "cell_type": "markdown",
      "source": [
        "Try out the network communication with another student.\n",
        "\n",
        "1. Make sure that you are connected to the same network, e.g. SSID UniSydney. Connect to [the university VPN](https://sydneyuni.service-now.com/sas?id=kb_article&sys_id=836b51e6dbeb6010ea7d0793f3961901) if you are not in the classroom. Determine the local IPv4 address of your machine, the first octet should read 10.\n",
        "\n",
        "2. Create a client socket and connect it to the determined IP address of the other student.\n",
        "\n",
        "3. Send a transaction and parse the response from the server."
      ],
      "metadata": {
        "id": "Sqzd-BkMkh0e"
      }
    }
  ]
}